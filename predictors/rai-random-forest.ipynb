{
 "cells": [
  {
   "cell_type": "code",
   "execution_count": 81,
   "metadata": {},
   "outputs": [],
   "source": [
    "import pandas as pd \n",
    "import numpy as np\n",
    "from sklearn.model_selection import train_test_split\n",
    "\n",
    "selected_features = [\"duration_ms_x\",\"danceability\", \"loudness\", \"energy\", \"instrumentalness\", \"liveness\", \"valence\", \"speechiness\", \"tempo\"] \n",
    "\n",
    "SUCCESS_FEATURE = 'youtube_views'\n",
    "SUCCESS_THRESHOLD = 0.75\n",
    "MILD_SUCCESS_THRESHOLD = 0.4\n",
    "\n",
    "df = pd.read_csv(\"rai.csv\")\n",
    "df = df.sort_values(by=['popularity'])\n",
    "df = df.drop_duplicates(subset=['id'])\n",
    "df = df.drop_duplicates(subset=['name', 'main_artist'], keep='first')\n",
    "df = df.drop_duplicates(subset=selected_features, keep='first')"
   ]
  },
  {
   "source": [
    "## Feature engineering"
   ],
   "cell_type": "markdown",
   "metadata": {}
  },
  {
   "source": [
    "### Feature scaling and centering"
   ],
   "cell_type": "markdown",
   "metadata": {}
  },
  {
   "cell_type": "code",
   "execution_count": 82,
   "metadata": {},
   "outputs": [],
   "source": [
    "df.youtube_views = np.log1p(df.youtube_views)\n",
    "df.last_fm_playcount = np.log1p(df.last_fm_playcount)"
   ]
  },
  {
   "source": [
    "### Defining popularity"
   ],
   "cell_type": "markdown",
   "metadata": {}
  },
  {
   "cell_type": "code",
   "execution_count": 83,
   "metadata": {},
   "outputs": [],
   "source": [
    "df['popularity_cat'] = \"Unsuccesful\"\n",
    "# TODO Use spotify, Youtube and Last FM \n",
    "df.loc[(df[SUCCESS_FEATURE] > df[SUCCESS_FEATURE].quantile(SUCCESS_THRESHOLD)), 'popularity_cat'] = \"Succesful\"\n",
    "df.loc[(df[SUCCESS_FEATURE] <= df[SUCCESS_FEATURE].quantile(SUCCESS_THRESHOLD)) & (df[SUCCESS_FEATURE] >= df[SUCCESS_FEATURE].quantile(MILD_SUCCESS_THRESHOLD)), 'popularity_cat'] = \"Mildly Succesful\""
   ]
  },
  {
   "source": [
    "## Split & prepare the data"
   ],
   "cell_type": "markdown",
   "metadata": {}
  },
  {
   "cell_type": "code",
   "execution_count": 84,
   "metadata": {},
   "outputs": [],
   "source": [
    "train, test = train_test_split(df, test_size=0.2)\n",
    "\n",
    "\n",
    "selected_target = \"popularity_cat\"\n",
    "\n",
    "train_x = train[selected_features] \n",
    "train_y = train[selected_target]\n",
    "\n",
    "test_x = test[selected_features] \n",
    "test_y = test[selected_target]"
   ]
  },
  {
   "source": [
    "## Building the model"
   ],
   "cell_type": "markdown",
   "metadata": {}
  },
  {
   "cell_type": "code",
   "execution_count": 85,
   "metadata": {},
   "outputs": [],
   "source": [
    "from sklearn.ensemble import GradientBoostingClassifier, RandomForestClassifier\n",
    "from sklearn.dummy import DummyClassifier\n",
    "forest = RandomForestClassifier(max_depth=5, min_samples_leaf=3, n_estimators=75)\n",
    "dummy_clf = DummyClassifier()"
   ]
  },
  {
   "cell_type": "code",
   "execution_count": 86,
   "metadata": {},
   "outputs": [
    {
     "output_type": "execute_result",
     "data": {
      "text/plain": [
       "DummyClassifier()"
      ]
     },
     "metadata": {},
     "execution_count": 86
    }
   ],
   "source": [
    "forest.fit(X = train_x, y = train_y)\n",
    "dummy_clf.fit(X = train_x, y = train_y)"
   ]
  },
  {
   "cell_type": "code",
   "execution_count": 87,
   "metadata": {},
   "outputs": [
    {
     "output_type": "stream",
     "name": "stdout",
     "text": [
      "Training accuracy: 0.6586921850079744\nTesting accuracy: 0.4554140127388535\nDummy accuracy: 0.3375796178343949\n"
     ]
    }
   ],
   "source": [
    "from sklearn.metrics import make_scorer, accuracy_score, roc_auc_score \n",
    "rf_predict = forest.predict(test_x)\n",
    "train_predict = forest.predict(train_x)\n",
    "dummy_predict = dummy_clf.predict(test_x)\n",
    "print(\"Training accuracy: \" + str(accuracy_score(train_y, train_predict)))\n",
    "print(\"Testing accuracy: \" + str(accuracy_score(test_y, rf_predict)))\n",
    "print(\"Dummy accuracy: \" + str(accuracy_score(test_y, dummy_predict)))"
   ]
  },
  {
   "cell_type": "code",
   "execution_count": 88,
   "metadata": {},
   "outputs": [
    {
     "output_type": "execute_result",
     "data": {
      "text/plain": [
       "                          id                                   name  \\\n",
       "1551  5cORzMWKkLUlwA1OGGcemf                                عم سينا   \n",
       "2281  6ZTxpl2s2iqtvg4VVPNm3s                     Eachqek Historique   \n",
       "218   0IcArqqdY0dWDwFTQV3zZE                     achekak historique   \n",
       "2222  4RW0cU23xktVOvkbLxFmGU                       Mafhamte ouallou   \n",
       "1723  1fGGWbvw2Vb8TldpXLuZ2W                            Niveaux tah   \n",
       "1836  0auCj2x94K2w2nTWKZ6GG8                             Slam Klani   \n",
       "253   1OY5epFo92PoddBVO0TJde                          Fa9r Ou Saada   \n",
       "1625  6vzkPT7DUjvREkyayogRA6                          Chitnouk alia   \n",
       "2350  4YhhbjDAZ6qBvxlm2Ih2Av  Ezzine icheyeb (Version remasterisée)   \n",
       "1833  1Tzj0bb35XiTE65TGOVg3h           Ya hbabi rani fi hala - Live   \n",
       "\n",
       "       main_artist  key  mode  time_signature  duration_ms_x  danceability  \\\n",
       "1551    Cheb Hasni    7     1               4         323133         0.664   \n",
       "2281  Cheb Houssem    7     1               4         195265         0.615   \n",
       "218   Cheb Houssem    7     1               4         252052         0.647   \n",
       "2222    Cheb Bilal    4     0               4         313120         0.574   \n",
       "1723    Cheb Bilal    1     1               4         322640         0.676   \n",
       "1836        Khaled    1     1               3         376692         0.535   \n",
       "253          Warda    5     0               4         359448         0.627   \n",
       "1625        Khaled    0     1               4         270565         0.206   \n",
       "2350     Cheb Mami    0     1               4         367973         0.576   \n",
       "1833  Cheb Houssem   11     1               4         120480         0.440   \n",
       "\n",
       "      loudness  energy  ...  liveness  valence  speechiness    tempo  \\\n",
       "1551    -9.562   0.689  ...    0.1210    0.833       0.0523  162.694   \n",
       "2281    -4.712   0.817  ...    0.3490    0.894       0.0572  171.886   \n",
       "218     -6.497   0.828  ...    0.1420    0.928       0.0554  172.014   \n",
       "2222    -4.125   0.915  ...    0.3240    0.890       0.0431  180.535   \n",
       "1723    -5.639   0.842  ...    0.0999    0.594       0.0500  110.018   \n",
       "1836   -11.650   0.592  ...    0.0785    0.839       0.2200  185.077   \n",
       "253     -2.266   0.866  ...    0.0606    0.961       0.0656   93.972   \n",
       "1625   -14.050   0.371  ...    0.1410    0.375       0.0626   81.789   \n",
       "2350    -3.548   0.884  ...    0.2080    0.838       0.0467   95.961   \n",
       "1833    -7.851   0.803  ...    0.3470    0.790       0.1580   96.516   \n",
       "\n",
       "      popularity  youtube_views  last_fm_playcount  last_fm_listeners  \\\n",
       "1551           2       3.332205           1.609438                  3   \n",
       "2281           0      10.341291           0.000000                  0   \n",
       "218           16      15.858514           3.178054                  7   \n",
       "2222           0       6.584791           1.945910                  3   \n",
       "1723           2      14.122646           4.465908                 43   \n",
       "1836           1       9.500395           3.295837                 17   \n",
       "253           15       7.416980           0.000000                  0   \n",
       "1625           2       6.190315           3.688879                 33   \n",
       "2350           0       4.442651           1.945910                  5   \n",
       "1833           1       5.710427           2.890372                  2   \n",
       "\n",
       "        popularity_cat        prediction  \n",
       "1551       Unsuccesful       Unsuccesful  \n",
       "2281  Mildly Succesful         Succesful  \n",
       "218          Succesful         Succesful  \n",
       "2222       Unsuccesful  Mildly Succesful  \n",
       "1723         Succesful  Mildly Succesful  \n",
       "1836       Unsuccesful  Mildly Succesful  \n",
       "253        Unsuccesful         Succesful  \n",
       "1625       Unsuccesful       Unsuccesful  \n",
       "2350       Unsuccesful       Unsuccesful  \n",
       "1833       Unsuccesful       Unsuccesful  \n",
       "\n",
       "[10 rows x 21 columns]"
      ],
      "text/html": "<div>\n<style scoped>\n    .dataframe tbody tr th:only-of-type {\n        vertical-align: middle;\n    }\n\n    .dataframe tbody tr th {\n        vertical-align: top;\n    }\n\n    .dataframe thead th {\n        text-align: right;\n    }\n</style>\n<table border=\"1\" class=\"dataframe\">\n  <thead>\n    <tr style=\"text-align: right;\">\n      <th></th>\n      <th>id</th>\n      <th>name</th>\n      <th>main_artist</th>\n      <th>key</th>\n      <th>mode</th>\n      <th>time_signature</th>\n      <th>duration_ms_x</th>\n      <th>danceability</th>\n      <th>loudness</th>\n      <th>energy</th>\n      <th>...</th>\n      <th>liveness</th>\n      <th>valence</th>\n      <th>speechiness</th>\n      <th>tempo</th>\n      <th>popularity</th>\n      <th>youtube_views</th>\n      <th>last_fm_playcount</th>\n      <th>last_fm_listeners</th>\n      <th>popularity_cat</th>\n      <th>prediction</th>\n    </tr>\n  </thead>\n  <tbody>\n    <tr>\n      <th>1551</th>\n      <td>5cORzMWKkLUlwA1OGGcemf</td>\n      <td>عم سينا</td>\n      <td>Cheb Hasni</td>\n      <td>7</td>\n      <td>1</td>\n      <td>4</td>\n      <td>323133</td>\n      <td>0.664</td>\n      <td>-9.562</td>\n      <td>0.689</td>\n      <td>...</td>\n      <td>0.1210</td>\n      <td>0.833</td>\n      <td>0.0523</td>\n      <td>162.694</td>\n      <td>2</td>\n      <td>3.332205</td>\n      <td>1.609438</td>\n      <td>3</td>\n      <td>Unsuccesful</td>\n      <td>Unsuccesful</td>\n    </tr>\n    <tr>\n      <th>2281</th>\n      <td>6ZTxpl2s2iqtvg4VVPNm3s</td>\n      <td>Eachqek Historique</td>\n      <td>Cheb Houssem</td>\n      <td>7</td>\n      <td>1</td>\n      <td>4</td>\n      <td>195265</td>\n      <td>0.615</td>\n      <td>-4.712</td>\n      <td>0.817</td>\n      <td>...</td>\n      <td>0.3490</td>\n      <td>0.894</td>\n      <td>0.0572</td>\n      <td>171.886</td>\n      <td>0</td>\n      <td>10.341291</td>\n      <td>0.000000</td>\n      <td>0</td>\n      <td>Mildly Succesful</td>\n      <td>Succesful</td>\n    </tr>\n    <tr>\n      <th>218</th>\n      <td>0IcArqqdY0dWDwFTQV3zZE</td>\n      <td>achekak historique</td>\n      <td>Cheb Houssem</td>\n      <td>7</td>\n      <td>1</td>\n      <td>4</td>\n      <td>252052</td>\n      <td>0.647</td>\n      <td>-6.497</td>\n      <td>0.828</td>\n      <td>...</td>\n      <td>0.1420</td>\n      <td>0.928</td>\n      <td>0.0554</td>\n      <td>172.014</td>\n      <td>16</td>\n      <td>15.858514</td>\n      <td>3.178054</td>\n      <td>7</td>\n      <td>Succesful</td>\n      <td>Succesful</td>\n    </tr>\n    <tr>\n      <th>2222</th>\n      <td>4RW0cU23xktVOvkbLxFmGU</td>\n      <td>Mafhamte ouallou</td>\n      <td>Cheb Bilal</td>\n      <td>4</td>\n      <td>0</td>\n      <td>4</td>\n      <td>313120</td>\n      <td>0.574</td>\n      <td>-4.125</td>\n      <td>0.915</td>\n      <td>...</td>\n      <td>0.3240</td>\n      <td>0.890</td>\n      <td>0.0431</td>\n      <td>180.535</td>\n      <td>0</td>\n      <td>6.584791</td>\n      <td>1.945910</td>\n      <td>3</td>\n      <td>Unsuccesful</td>\n      <td>Mildly Succesful</td>\n    </tr>\n    <tr>\n      <th>1723</th>\n      <td>1fGGWbvw2Vb8TldpXLuZ2W</td>\n      <td>Niveaux tah</td>\n      <td>Cheb Bilal</td>\n      <td>1</td>\n      <td>1</td>\n      <td>4</td>\n      <td>322640</td>\n      <td>0.676</td>\n      <td>-5.639</td>\n      <td>0.842</td>\n      <td>...</td>\n      <td>0.0999</td>\n      <td>0.594</td>\n      <td>0.0500</td>\n      <td>110.018</td>\n      <td>2</td>\n      <td>14.122646</td>\n      <td>4.465908</td>\n      <td>43</td>\n      <td>Succesful</td>\n      <td>Mildly Succesful</td>\n    </tr>\n    <tr>\n      <th>1836</th>\n      <td>0auCj2x94K2w2nTWKZ6GG8</td>\n      <td>Slam Klani</td>\n      <td>Khaled</td>\n      <td>1</td>\n      <td>1</td>\n      <td>3</td>\n      <td>376692</td>\n      <td>0.535</td>\n      <td>-11.650</td>\n      <td>0.592</td>\n      <td>...</td>\n      <td>0.0785</td>\n      <td>0.839</td>\n      <td>0.2200</td>\n      <td>185.077</td>\n      <td>1</td>\n      <td>9.500395</td>\n      <td>3.295837</td>\n      <td>17</td>\n      <td>Unsuccesful</td>\n      <td>Mildly Succesful</td>\n    </tr>\n    <tr>\n      <th>253</th>\n      <td>1OY5epFo92PoddBVO0TJde</td>\n      <td>Fa9r Ou Saada</td>\n      <td>Warda</td>\n      <td>5</td>\n      <td>0</td>\n      <td>4</td>\n      <td>359448</td>\n      <td>0.627</td>\n      <td>-2.266</td>\n      <td>0.866</td>\n      <td>...</td>\n      <td>0.0606</td>\n      <td>0.961</td>\n      <td>0.0656</td>\n      <td>93.972</td>\n      <td>15</td>\n      <td>7.416980</td>\n      <td>0.000000</td>\n      <td>0</td>\n      <td>Unsuccesful</td>\n      <td>Succesful</td>\n    </tr>\n    <tr>\n      <th>1625</th>\n      <td>6vzkPT7DUjvREkyayogRA6</td>\n      <td>Chitnouk alia</td>\n      <td>Khaled</td>\n      <td>0</td>\n      <td>1</td>\n      <td>4</td>\n      <td>270565</td>\n      <td>0.206</td>\n      <td>-14.050</td>\n      <td>0.371</td>\n      <td>...</td>\n      <td>0.1410</td>\n      <td>0.375</td>\n      <td>0.0626</td>\n      <td>81.789</td>\n      <td>2</td>\n      <td>6.190315</td>\n      <td>3.688879</td>\n      <td>33</td>\n      <td>Unsuccesful</td>\n      <td>Unsuccesful</td>\n    </tr>\n    <tr>\n      <th>2350</th>\n      <td>4YhhbjDAZ6qBvxlm2Ih2Av</td>\n      <td>Ezzine icheyeb (Version remasterisée)</td>\n      <td>Cheb Mami</td>\n      <td>0</td>\n      <td>1</td>\n      <td>4</td>\n      <td>367973</td>\n      <td>0.576</td>\n      <td>-3.548</td>\n      <td>0.884</td>\n      <td>...</td>\n      <td>0.2080</td>\n      <td>0.838</td>\n      <td>0.0467</td>\n      <td>95.961</td>\n      <td>0</td>\n      <td>4.442651</td>\n      <td>1.945910</td>\n      <td>5</td>\n      <td>Unsuccesful</td>\n      <td>Unsuccesful</td>\n    </tr>\n    <tr>\n      <th>1833</th>\n      <td>1Tzj0bb35XiTE65TGOVg3h</td>\n      <td>Ya hbabi rani fi hala - Live</td>\n      <td>Cheb Houssem</td>\n      <td>11</td>\n      <td>1</td>\n      <td>4</td>\n      <td>120480</td>\n      <td>0.440</td>\n      <td>-7.851</td>\n      <td>0.803</td>\n      <td>...</td>\n      <td>0.3470</td>\n      <td>0.790</td>\n      <td>0.1580</td>\n      <td>96.516</td>\n      <td>1</td>\n      <td>5.710427</td>\n      <td>2.890372</td>\n      <td>2</td>\n      <td>Unsuccesful</td>\n      <td>Unsuccesful</td>\n    </tr>\n  </tbody>\n</table>\n<p>10 rows × 21 columns</p>\n</div>"
     },
     "metadata": {},
     "execution_count": 88
    }
   ],
   "source": [
    "test[\"prediction\"] = rf_predict\n",
    "test.sample(10)"
   ]
  },
  {
   "source": [
    "## Feature importance"
   ],
   "cell_type": "markdown",
   "metadata": {}
  },
  {
   "cell_type": "code",
   "execution_count": 89,
   "metadata": {},
   "outputs": [
    {
     "output_type": "stream",
     "name": "stdout",
     "text": [
      "duration_ms_x 0.11661926294505981\ndanceability 0.11936234176846648\nloudness 0.08284508109204071\nenergy 0.08938294028348398\ninstrumentalness 0.12260667960711809\nliveness 0.09130637610308692\nvalence 0.1209622123247974\nspeechiness 0.14388266713599254\ntempo 0.11303243873995401\n"
     ]
    }
   ],
   "source": [
    "for name, score in zip(selected_features, forest.feature_importances_):\n",
    "    print(name, score)"
   ]
  },
  {
   "source": [
    "## Hidden gems"
   ],
   "cell_type": "markdown",
   "metadata": {}
  },
  {
   "cell_type": "code",
   "execution_count": 90,
   "metadata": {},
   "outputs": [
    {
     "output_type": "execute_result",
     "data": {
      "text/plain": [
       "                         id           name main_artist  key  mode  \\\n",
       "253  1OY5epFo92PoddBVO0TJde  Fa9r Ou Saada       Warda    5     0   \n",
       "\n",
       "     time_signature  duration_ms_x  danceability  loudness  energy  ...  \\\n",
       "253               4         359448         0.627    -2.266   0.866  ...   \n",
       "\n",
       "     liveness  valence  speechiness   tempo  popularity  youtube_views  \\\n",
       "253    0.0606    0.961       0.0656  93.972          15        7.41698   \n",
       "\n",
       "     last_fm_playcount  last_fm_listeners  popularity_cat prediction  \n",
       "253                0.0                  0     Unsuccesful  Succesful  \n",
       "\n",
       "[1 rows x 21 columns]"
      ],
      "text/html": "<div>\n<style scoped>\n    .dataframe tbody tr th:only-of-type {\n        vertical-align: middle;\n    }\n\n    .dataframe tbody tr th {\n        vertical-align: top;\n    }\n\n    .dataframe thead th {\n        text-align: right;\n    }\n</style>\n<table border=\"1\" class=\"dataframe\">\n  <thead>\n    <tr style=\"text-align: right;\">\n      <th></th>\n      <th>id</th>\n      <th>name</th>\n      <th>main_artist</th>\n      <th>key</th>\n      <th>mode</th>\n      <th>time_signature</th>\n      <th>duration_ms_x</th>\n      <th>danceability</th>\n      <th>loudness</th>\n      <th>energy</th>\n      <th>...</th>\n      <th>liveness</th>\n      <th>valence</th>\n      <th>speechiness</th>\n      <th>tempo</th>\n      <th>popularity</th>\n      <th>youtube_views</th>\n      <th>last_fm_playcount</th>\n      <th>last_fm_listeners</th>\n      <th>popularity_cat</th>\n      <th>prediction</th>\n    </tr>\n  </thead>\n  <tbody>\n    <tr>\n      <th>253</th>\n      <td>1OY5epFo92PoddBVO0TJde</td>\n      <td>Fa9r Ou Saada</td>\n      <td>Warda</td>\n      <td>5</td>\n      <td>0</td>\n      <td>4</td>\n      <td>359448</td>\n      <td>0.627</td>\n      <td>-2.266</td>\n      <td>0.866</td>\n      <td>...</td>\n      <td>0.0606</td>\n      <td>0.961</td>\n      <td>0.0656</td>\n      <td>93.972</td>\n      <td>15</td>\n      <td>7.41698</td>\n      <td>0.0</td>\n      <td>0</td>\n      <td>Unsuccesful</td>\n      <td>Succesful</td>\n    </tr>\n  </tbody>\n</table>\n<p>1 rows × 21 columns</p>\n</div>"
     },
     "metadata": {},
     "execution_count": 90
    }
   ],
   "source": [
    "hdf = test.loc[(test['popularity_cat'] == 'Unsuccesful') & (test['prediction'] == 'Succesful'), :]\n",
    "hdf.sample()"
   ]
  },
  {
   "cell_type": "code",
   "execution_count": null,
   "metadata": {},
   "outputs": [],
   "source": []
  }
 ],
 "metadata": {
  "kernelspec": {
   "display_name": "Python 3",
   "language": "python",
   "name": "python3"
  },
  "language_info": {
   "codemirror_mode": {
    "name": "ipython",
    "version": 3
   },
   "file_extension": ".py",
   "mimetype": "text/x-python",
   "name": "python",
   "nbconvert_exporter": "python",
   "pygments_lexer": "ipython3",
   "version": "3.9.0-final"
  }
 },
 "nbformat": 4,
 "nbformat_minor": 4
}