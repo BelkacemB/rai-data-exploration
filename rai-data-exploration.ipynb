{
 "metadata": {
  "language_info": {
   "codemirror_mode": {
    "name": "ipython",
    "version": 3
   },
   "file_extension": ".py",
   "mimetype": "text/x-python",
   "name": "python",
   "nbconvert_exporter": "python",
   "pygments_lexer": "ipython3",
   "version": "3.9.0-final"
  },
  "orig_nbformat": 2,
  "kernelspec": {
   "name": "python3",
   "display_name": "Python 3"
  }
 },
 "nbformat": 4,
 "nbformat_minor": 2,
 "cells": [
  {
   "cell_type": "code",
   "execution_count": 20,
   "metadata": {},
   "outputs": [],
   "source": [
    "import spotipy\n",
    "from spotipy.oauth2 import SpotifyClientCredentials\n",
    "\n",
    "# Do not forget so space out the requests\n",
    "spotify = spotipy.Spotify(\n",
    "    client_credentials_manager=SpotifyClientCredentials())\n",
    "\n",
    "# 1 - Build a population of artists\n",
    "artist_ids = [\n",
    "    \"11E9GHIAzJRKuECEUSEuqh\", # Cheb Bello \n",
    "    \"3e3cKwH1kUr02bvIm7VaIe\", # Kader Japonais\n",
    "    \"5CZ5sGdn0X47HhndSYKqdz\", # Cheba Dalila\n",
    "    \"0c3dDCJfxcT4lYNugbKvJt\", # Warda\n",
    "    \"4iCrZzxACYPYcoS71DgjWW\", # Bilal Sghir\n",
    "    \"59N7N5tX53jyPhAmsRi4or\", # Cheb Bilal\n",
    "    \"4ZzMtjQsjtaAOm3GPqmjeQ\" # Cheb Djalil \n",
    "]\n",
    "\n",
    "artist_map = {\n",
    "    \"11E9GHIAzJRKuECEUSEuqh\": \"Cheb Bello\",  \n",
    "    \"3e3cKwH1kUr02bvIm7VaIe\": \"Kader Japonais\",\n",
    "    \"5CZ5sGdn0X47HhndSYKqdz\": \"Cheba Dalila\",\n",
    "    \"0c3dDCJfxcT4lYNugbKvJt\": \"Warda\",\n",
    "    \"4iCrZzxACYPYcoS71DgjWW\": \"Bilal Sghir\",\n",
    "    \"59N7N5tX53jyPhAmsRi4or\": \"Cheb Bilal\",\n",
    "    \"4ZzMtjQsjtaAOm3GPqmjeQ\" : \"Cheb Djalil\"\n",
    "}\n",
    "\n",
    "# 1.5 - Get basic artist info (Monthly listeners for instance)\n",
    "selected_artists = spotify.artists(artist_ids).get(\"artists\")\n",
    "\n",
    "# 2 - Get their top tracks\n",
    "top_tracks = list()\n",
    "for artist_id in artist_ids:\n",
    "    artist_top_tracks = spotify.artist_top_tracks(artist_id).get(\"tracks\")\n",
    "    for artist_top_track in artist_top_tracks: \n",
    "        artist_top_track[\"main_artist\"] = artist_map.get(artist_id)\n",
    "\n",
    "    top_tracks.extend(artist_top_tracks)\n",
    "\n",
    "# 3 - Get maximum track features\n",
    "def get_track_id(track):\n",
    "    return track.get(\"id\")\n",
    "\n",
    "tracks_ids = list(map(get_track_id, top_tracks))\n",
    "audio_features = spotify.audio_features(tracks=tracks_ids)\n",
    "\n",
    "# 4 - Store the data in a CSV file\n",
    "# 5 - Create a notebook and explore the data"
   ]
  },
  {
   "cell_type": "code",
   "execution_count": 22,
   "metadata": {},
   "outputs": [
    {
     "output_type": "execute_result",
     "data": {
      "text/plain": [
       "                        id                               name     main_artist  \\\n",
       "10  1Ld7ou1JXz77rg70AG7usC                          El Walida  Kader Japonais   \n",
       "0   1mhKtcpIVEwvE7qs32HcwI                  Manich Kima Bakri      Cheb Bello   \n",
       "1   1Z3UznHCGkclMLMOBRxeHN  3adyani Bel Gros - Remix Master T      Cheb Bello   \n",
       "51  4KuO9X4amlOVQwsU2DRONy                      Di Ayza Kalem      Cheb Bilal   \n",
       "50  4dWR4PFw9WbkUrTmLmdeDB          Bienvenue chez les bylkas      Cheb Bilal   \n",
       "\n",
       "    duration_ms_x  explicit  danceability  loudness  energy  instrumentalness  \\\n",
       "10         252000     False         0.611    -8.611   0.743          0.000000   \n",
       "0          345652     False         0.705    -4.308   0.894          0.000005   \n",
       "1          226811     False         0.672    -6.673   0.787          0.543000   \n",
       "51         351173     False         0.452    -7.722   0.881          0.005230   \n",
       "50         242533     False         0.627    -4.176   0.869          0.000000   \n",
       "\n",
       "    liveness  valence  speechiness    tempo  popularity  \n",
       "10    0.1110    0.541       0.0833   79.996          56  \n",
       "0     0.0725    0.890       0.0950   96.066          47  \n",
       "1     0.2060    0.594       0.0452   91.992          47  \n",
       "51    0.0453    0.970       0.0895  110.371          45  \n",
       "50    0.6610    0.885       0.2270   98.662          45  "
      ],
      "text/html": "<div>\n<style scoped>\n    .dataframe tbody tr th:only-of-type {\n        vertical-align: middle;\n    }\n\n    .dataframe tbody tr th {\n        vertical-align: top;\n    }\n\n    .dataframe thead th {\n        text-align: right;\n    }\n</style>\n<table border=\"1\" class=\"dataframe\">\n  <thead>\n    <tr style=\"text-align: right;\">\n      <th></th>\n      <th>id</th>\n      <th>name</th>\n      <th>main_artist</th>\n      <th>duration_ms_x</th>\n      <th>explicit</th>\n      <th>danceability</th>\n      <th>loudness</th>\n      <th>energy</th>\n      <th>instrumentalness</th>\n      <th>liveness</th>\n      <th>valence</th>\n      <th>speechiness</th>\n      <th>tempo</th>\n      <th>popularity</th>\n    </tr>\n  </thead>\n  <tbody>\n    <tr>\n      <th>10</th>\n      <td>1Ld7ou1JXz77rg70AG7usC</td>\n      <td>El Walida</td>\n      <td>Kader Japonais</td>\n      <td>252000</td>\n      <td>False</td>\n      <td>0.611</td>\n      <td>-8.611</td>\n      <td>0.743</td>\n      <td>0.000000</td>\n      <td>0.1110</td>\n      <td>0.541</td>\n      <td>0.0833</td>\n      <td>79.996</td>\n      <td>56</td>\n    </tr>\n    <tr>\n      <th>0</th>\n      <td>1mhKtcpIVEwvE7qs32HcwI</td>\n      <td>Manich Kima Bakri</td>\n      <td>Cheb Bello</td>\n      <td>345652</td>\n      <td>False</td>\n      <td>0.705</td>\n      <td>-4.308</td>\n      <td>0.894</td>\n      <td>0.000005</td>\n      <td>0.0725</td>\n      <td>0.890</td>\n      <td>0.0950</td>\n      <td>96.066</td>\n      <td>47</td>\n    </tr>\n    <tr>\n      <th>1</th>\n      <td>1Z3UznHCGkclMLMOBRxeHN</td>\n      <td>3adyani Bel Gros - Remix Master T</td>\n      <td>Cheb Bello</td>\n      <td>226811</td>\n      <td>False</td>\n      <td>0.672</td>\n      <td>-6.673</td>\n      <td>0.787</td>\n      <td>0.543000</td>\n      <td>0.2060</td>\n      <td>0.594</td>\n      <td>0.0452</td>\n      <td>91.992</td>\n      <td>47</td>\n    </tr>\n    <tr>\n      <th>51</th>\n      <td>4KuO9X4amlOVQwsU2DRONy</td>\n      <td>Di Ayza Kalem</td>\n      <td>Cheb Bilal</td>\n      <td>351173</td>\n      <td>False</td>\n      <td>0.452</td>\n      <td>-7.722</td>\n      <td>0.881</td>\n      <td>0.005230</td>\n      <td>0.0453</td>\n      <td>0.970</td>\n      <td>0.0895</td>\n      <td>110.371</td>\n      <td>45</td>\n    </tr>\n    <tr>\n      <th>50</th>\n      <td>4dWR4PFw9WbkUrTmLmdeDB</td>\n      <td>Bienvenue chez les bylkas</td>\n      <td>Cheb Bilal</td>\n      <td>242533</td>\n      <td>False</td>\n      <td>0.627</td>\n      <td>-4.176</td>\n      <td>0.869</td>\n      <td>0.000000</td>\n      <td>0.6610</td>\n      <td>0.885</td>\n      <td>0.2270</td>\n      <td>98.662</td>\n      <td>45</td>\n    </tr>\n  </tbody>\n</table>\n</div>"
     },
     "metadata": {},
     "execution_count": 22
    }
   ],
   "source": [
    "import pandas as pd \n",
    "import numpy as np\n",
    "\n",
    "af = pd.DataFrame(audio_features)\n",
    "tt = pd.DataFrame(top_tracks)\n",
    "\n",
    "df = pd.merge(tt, af, how=\"left\", on=\"id\")\n",
    "df = df[['id', 'name', 'main_artist', 'duration_ms_x', 'explicit', 'danceability', 'loudness', 'energy', 'instrumentalness', 'liveness', 'valence', 'speechiness', 'tempo', 'popularity']]\n",
    "df = df.sort_values(by=['popularity'], ascending=False)\n",
    "\n",
    "df.head()"
   ]
  },
  {
   "cell_type": "code",
   "execution_count": 24,
   "metadata": {},
   "outputs": [],
   "source": [
    "df.to_csv(\"out.csv\", index=False)"
   ]
  },
  {
   "cell_type": "code",
   "execution_count": null,
   "metadata": {},
   "outputs": [],
   "source": []
  }
 ]
}