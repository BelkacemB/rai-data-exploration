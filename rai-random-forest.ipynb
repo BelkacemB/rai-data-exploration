{
 "cells": [
  {
   "cell_type": "code",
   "execution_count": 297,
   "metadata": {},
   "outputs": [],
   "source": [
    "import pandas as pd \n",
    "import numpy as np\n",
    "from sklearn.model_selection import train_test_split\n",
    "\n",
    "selected_features = [\"key\", \"mode\", \"time_signature\", \"duration_ms_x\",\"danceability\", \"loudness\", \"energy\", \"instrumentalness\", \"liveness\", \"valence\", \"speechiness\", \"tempo\"] \n",
    "\n",
    "SUCCESS_FEATURE = 'youtube_views'\n",
    "SUCCESS_THRESHOLD = 0.75\n",
    "\n",
    "df = pd.read_csv(\"rai.csv\")\n",
    "df = df.sort_values(by=['popularity'])\n",
    "df = df.drop_duplicates(subset=['id'])\n",
    "df = df.drop_duplicates(subset=['name', 'main_artist'], keep='first')\n",
    "df = df.drop_duplicates(subset=selected_features, keep='first')"
   ]
  },
  {
   "source": [
    "## Feature engineering"
   ],
   "cell_type": "markdown",
   "metadata": {}
  },
  {
   "source": [
    "### Feature scaling and centering"
   ],
   "cell_type": "markdown",
   "metadata": {}
  },
  {
   "cell_type": "code",
   "execution_count": 298,
   "metadata": {},
   "outputs": [],
   "source": [
    "df.youtube_views = np.log1p(df.youtube_views)\n",
    "df.last_fm_playcount = np.log1p(df.last_fm_playcount)"
   ]
  },
  {
   "source": [
    "### Defining popularity"
   ],
   "cell_type": "markdown",
   "metadata": {}
  },
  {
   "cell_type": "code",
   "execution_count": 299,
   "metadata": {},
   "outputs": [],
   "source": [
    "df['popularity_cat'] = \"Unsuccesful\"\n",
    "# TODO Use spotify, Youtube and Last FM \n",
    "df.loc[(df[SUCCESS_FEATURE] > df[SUCCESS_FEATURE].quantile(SUCCESS_THRESHOLD)), 'popularity_cat'] = \"Succesful\""
   ]
  },
  {
   "source": [
    "## Split & prepare the data"
   ],
   "cell_type": "markdown",
   "metadata": {}
  },
  {
   "cell_type": "code",
   "execution_count": 300,
   "metadata": {},
   "outputs": [],
   "source": [
    "train, test = train_test_split(df, test_size=0.2)\n",
    "\n",
    "\n",
    "selected_target = \"popularity_cat\"\n",
    "\n",
    "train_x = train[selected_features] \n",
    "train_y = train[selected_target]\n",
    "\n",
    "test_x = test[selected_features] \n",
    "test_y = test[selected_target]"
   ]
  },
  {
   "source": [
    "## Building the model"
   ],
   "cell_type": "markdown",
   "metadata": {}
  },
  {
   "cell_type": "code",
   "execution_count": 301,
   "metadata": {},
   "outputs": [],
   "source": [
    "from sklearn.ensemble import RandomForestClassifier\n",
    "tree = RandomForestClassifier(max_depth=4, n_estimators=20, min_samples_split=3, min_samples_leaf=2)"
   ]
  },
  {
   "cell_type": "code",
   "execution_count": 302,
   "metadata": {},
   "outputs": [
    {
     "output_type": "execute_result",
     "data": {
      "text/plain": [
       "RandomForestClassifier(max_depth=5, min_samples_leaf=2, min_samples_split=5)"
      ]
     },
     "metadata": {},
     "execution_count": 302
    }
   ],
   "source": [
    "tree.fit(X = train_x, y = train_y)"
   ]
  },
  {
   "cell_type": "code",
   "execution_count": 303,
   "metadata": {},
   "outputs": [
    {
     "output_type": "stream",
     "name": "stdout",
     "text": [
      "Training accuracy: 0.7655502392344498\nTesting accuracy: 0.7261146496815286\n"
     ]
    }
   ],
   "source": [
    "from sklearn.metrics import make_scorer, accuracy_score, roc_auc_score \n",
    "rf_predict = tree.predict(test_x)\n",
    "train_predict = tree.predict(train_x)\n",
    "print(\"Training accuracy: \" + str(accuracy_score(train_y, train_predict)))\n",
    "print(\"Testing accuracy: \" + str(accuracy_score(test_y, rf_predict)))"
   ]
  },
  {
   "cell_type": "code",
   "execution_count": 304,
   "metadata": {},
   "outputs": [
    {
     "output_type": "execute_result",
     "data": {
      "text/plain": [
       "                          id                name      main_artist  key  mode  \\\n",
       "1327  0DNjyfgcfoA3PzdKNRir3b  Gaa Nabghou Drahem       Cheb Bilal    9     1   \n",
       "695   0Nl1kHtSCO7bYKWsn49fjC               تجارة       Cheb Bilal    1     1   \n",
       "723   54YyeW3RZGAD5PA0jbakb3         Wali Imigré   Kader Japonais    7     1   \n",
       "1688  0gHIteQjluuU9pnzYwfV7V        Charak gataa  Cheikha Rimitti    6     0   \n",
       "1898  0YPYxAY5jdEHlwWQKKOBuM            Hablatek       Cheb Bilal    6     1   \n",
       "85    1NpCgWDsQc62AJCHMjqryF   Sabran (Ya Ghali)        Cheb Mami   11     0   \n",
       "473   1gjFJB75Sw71kdEiZC4PeI  Yali goultou sahla       Cheb Bilal    9     0   \n",
       "573   5zWx0VR3F2s5rH0iNQjRDa         Halaou Laou     Cheb Houssem    7     1   \n",
       "1812  3Iw5yudaSDoCFqF1yClaxy       Ksemti belleh       Cheb Bilal    1     0   \n",
       "268   6WQfhbOn5JTUJ4IVy7KZnO     الفقر و السعادة            Warda    5     0   \n",
       "\n",
       "      time_signature  duration_ms_x  danceability  loudness  energy  ...  \\\n",
       "1327               4         370311         0.704    -5.096   0.949  ...   \n",
       "695                4         203586         0.692    -3.581   0.881  ...   \n",
       "723                4         312586         0.429    -5.321   0.937  ...   \n",
       "1688               4         226146         0.544    -9.628   0.553  ...   \n",
       "1898               4         374853         0.554    -8.822   0.573  ...   \n",
       "85                 4         230560         0.806    -5.786   0.834  ...   \n",
       "473                4         342466         0.729    -7.974   0.725  ...   \n",
       "573                4         631470         0.659    -5.561   0.905  ...   \n",
       "1812               4         321346         0.557    -7.841   0.722  ...   \n",
       "268                4         300000         0.696    -1.404   0.892  ...   \n",
       "\n",
       "      liveness  valence  speechiness    tempo  popularity  youtube_views  \\\n",
       "1327    0.0720    0.886       0.0698  108.006           3      14.615519   \n",
       "695     0.1340    0.933       0.0701  120.035           6      15.978151   \n",
       "723     0.6270    0.364       0.3600   96.080           6      15.998746   \n",
       "1688    0.1020    0.890       0.0337  107.051           2      11.368420   \n",
       "1898    0.1220    0.452       0.0457   89.000           1      15.192882   \n",
       "85      0.2130    0.568       0.0480   97.002          25      11.814784   \n",
       "473     0.1150    0.848       0.0363  131.018           9      13.837883   \n",
       "573     0.3440    0.916       0.0409   98.025           8      11.246352   \n",
       "1812    0.0690    0.786       0.0857  171.988           1      14.414362   \n",
       "268     0.0541    0.962       0.0617   93.994          15      14.409094   \n",
       "\n",
       "      last_fm_playcount  last_fm_listeners  popularity_cat   prediction  \n",
       "1327           1.098612                  2       Succesful  Unsuccesful  \n",
       "695            0.000000                  0       Succesful  Unsuccesful  \n",
       "723            0.000000                  0       Succesful  Unsuccesful  \n",
       "1688           3.401197                 19     Unsuccesful  Unsuccesful  \n",
       "1898           2.772589                  4       Succesful  Unsuccesful  \n",
       "85             7.845024               1019     Unsuccesful  Unsuccesful  \n",
       "473            2.484907                  5       Succesful  Unsuccesful  \n",
       "573            4.276666                 14     Unsuccesful  Unsuccesful  \n",
       "1812           2.890372                  6       Succesful  Unsuccesful  \n",
       "268            0.000000                  0       Succesful  Unsuccesful  \n",
       "\n",
       "[10 rows x 21 columns]"
      ],
      "text/html": "<div>\n<style scoped>\n    .dataframe tbody tr th:only-of-type {\n        vertical-align: middle;\n    }\n\n    .dataframe tbody tr th {\n        vertical-align: top;\n    }\n\n    .dataframe thead th {\n        text-align: right;\n    }\n</style>\n<table border=\"1\" class=\"dataframe\">\n  <thead>\n    <tr style=\"text-align: right;\">\n      <th></th>\n      <th>id</th>\n      <th>name</th>\n      <th>main_artist</th>\n      <th>key</th>\n      <th>mode</th>\n      <th>time_signature</th>\n      <th>duration_ms_x</th>\n      <th>danceability</th>\n      <th>loudness</th>\n      <th>energy</th>\n      <th>...</th>\n      <th>liveness</th>\n      <th>valence</th>\n      <th>speechiness</th>\n      <th>tempo</th>\n      <th>popularity</th>\n      <th>youtube_views</th>\n      <th>last_fm_playcount</th>\n      <th>last_fm_listeners</th>\n      <th>popularity_cat</th>\n      <th>prediction</th>\n    </tr>\n  </thead>\n  <tbody>\n    <tr>\n      <th>1327</th>\n      <td>0DNjyfgcfoA3PzdKNRir3b</td>\n      <td>Gaa Nabghou Drahem</td>\n      <td>Cheb Bilal</td>\n      <td>9</td>\n      <td>1</td>\n      <td>4</td>\n      <td>370311</td>\n      <td>0.704</td>\n      <td>-5.096</td>\n      <td>0.949</td>\n      <td>...</td>\n      <td>0.0720</td>\n      <td>0.886</td>\n      <td>0.0698</td>\n      <td>108.006</td>\n      <td>3</td>\n      <td>14.615519</td>\n      <td>1.098612</td>\n      <td>2</td>\n      <td>Succesful</td>\n      <td>Unsuccesful</td>\n    </tr>\n    <tr>\n      <th>695</th>\n      <td>0Nl1kHtSCO7bYKWsn49fjC</td>\n      <td>تجارة</td>\n      <td>Cheb Bilal</td>\n      <td>1</td>\n      <td>1</td>\n      <td>4</td>\n      <td>203586</td>\n      <td>0.692</td>\n      <td>-3.581</td>\n      <td>0.881</td>\n      <td>...</td>\n      <td>0.1340</td>\n      <td>0.933</td>\n      <td>0.0701</td>\n      <td>120.035</td>\n      <td>6</td>\n      <td>15.978151</td>\n      <td>0.000000</td>\n      <td>0</td>\n      <td>Succesful</td>\n      <td>Unsuccesful</td>\n    </tr>\n    <tr>\n      <th>723</th>\n      <td>54YyeW3RZGAD5PA0jbakb3</td>\n      <td>Wali Imigré</td>\n      <td>Kader Japonais</td>\n      <td>7</td>\n      <td>1</td>\n      <td>4</td>\n      <td>312586</td>\n      <td>0.429</td>\n      <td>-5.321</td>\n      <td>0.937</td>\n      <td>...</td>\n      <td>0.6270</td>\n      <td>0.364</td>\n      <td>0.3600</td>\n      <td>96.080</td>\n      <td>6</td>\n      <td>15.998746</td>\n      <td>0.000000</td>\n      <td>0</td>\n      <td>Succesful</td>\n      <td>Unsuccesful</td>\n    </tr>\n    <tr>\n      <th>1688</th>\n      <td>0gHIteQjluuU9pnzYwfV7V</td>\n      <td>Charak gataa</td>\n      <td>Cheikha Rimitti</td>\n      <td>6</td>\n      <td>0</td>\n      <td>4</td>\n      <td>226146</td>\n      <td>0.544</td>\n      <td>-9.628</td>\n      <td>0.553</td>\n      <td>...</td>\n      <td>0.1020</td>\n      <td>0.890</td>\n      <td>0.0337</td>\n      <td>107.051</td>\n      <td>2</td>\n      <td>11.368420</td>\n      <td>3.401197</td>\n      <td>19</td>\n      <td>Unsuccesful</td>\n      <td>Unsuccesful</td>\n    </tr>\n    <tr>\n      <th>1898</th>\n      <td>0YPYxAY5jdEHlwWQKKOBuM</td>\n      <td>Hablatek</td>\n      <td>Cheb Bilal</td>\n      <td>6</td>\n      <td>1</td>\n      <td>4</td>\n      <td>374853</td>\n      <td>0.554</td>\n      <td>-8.822</td>\n      <td>0.573</td>\n      <td>...</td>\n      <td>0.1220</td>\n      <td>0.452</td>\n      <td>0.0457</td>\n      <td>89.000</td>\n      <td>1</td>\n      <td>15.192882</td>\n      <td>2.772589</td>\n      <td>4</td>\n      <td>Succesful</td>\n      <td>Unsuccesful</td>\n    </tr>\n    <tr>\n      <th>85</th>\n      <td>1NpCgWDsQc62AJCHMjqryF</td>\n      <td>Sabran (Ya Ghali)</td>\n      <td>Cheb Mami</td>\n      <td>11</td>\n      <td>0</td>\n      <td>4</td>\n      <td>230560</td>\n      <td>0.806</td>\n      <td>-5.786</td>\n      <td>0.834</td>\n      <td>...</td>\n      <td>0.2130</td>\n      <td>0.568</td>\n      <td>0.0480</td>\n      <td>97.002</td>\n      <td>25</td>\n      <td>11.814784</td>\n      <td>7.845024</td>\n      <td>1019</td>\n      <td>Unsuccesful</td>\n      <td>Unsuccesful</td>\n    </tr>\n    <tr>\n      <th>473</th>\n      <td>1gjFJB75Sw71kdEiZC4PeI</td>\n      <td>Yali goultou sahla</td>\n      <td>Cheb Bilal</td>\n      <td>9</td>\n      <td>0</td>\n      <td>4</td>\n      <td>342466</td>\n      <td>0.729</td>\n      <td>-7.974</td>\n      <td>0.725</td>\n      <td>...</td>\n      <td>0.1150</td>\n      <td>0.848</td>\n      <td>0.0363</td>\n      <td>131.018</td>\n      <td>9</td>\n      <td>13.837883</td>\n      <td>2.484907</td>\n      <td>5</td>\n      <td>Succesful</td>\n      <td>Unsuccesful</td>\n    </tr>\n    <tr>\n      <th>573</th>\n      <td>5zWx0VR3F2s5rH0iNQjRDa</td>\n      <td>Halaou Laou</td>\n      <td>Cheb Houssem</td>\n      <td>7</td>\n      <td>1</td>\n      <td>4</td>\n      <td>631470</td>\n      <td>0.659</td>\n      <td>-5.561</td>\n      <td>0.905</td>\n      <td>...</td>\n      <td>0.3440</td>\n      <td>0.916</td>\n      <td>0.0409</td>\n      <td>98.025</td>\n      <td>8</td>\n      <td>11.246352</td>\n      <td>4.276666</td>\n      <td>14</td>\n      <td>Unsuccesful</td>\n      <td>Unsuccesful</td>\n    </tr>\n    <tr>\n      <th>1812</th>\n      <td>3Iw5yudaSDoCFqF1yClaxy</td>\n      <td>Ksemti belleh</td>\n      <td>Cheb Bilal</td>\n      <td>1</td>\n      <td>0</td>\n      <td>4</td>\n      <td>321346</td>\n      <td>0.557</td>\n      <td>-7.841</td>\n      <td>0.722</td>\n      <td>...</td>\n      <td>0.0690</td>\n      <td>0.786</td>\n      <td>0.0857</td>\n      <td>171.988</td>\n      <td>1</td>\n      <td>14.414362</td>\n      <td>2.890372</td>\n      <td>6</td>\n      <td>Succesful</td>\n      <td>Unsuccesful</td>\n    </tr>\n    <tr>\n      <th>268</th>\n      <td>6WQfhbOn5JTUJ4IVy7KZnO</td>\n      <td>الفقر و السعادة</td>\n      <td>Warda</td>\n      <td>5</td>\n      <td>0</td>\n      <td>4</td>\n      <td>300000</td>\n      <td>0.696</td>\n      <td>-1.404</td>\n      <td>0.892</td>\n      <td>...</td>\n      <td>0.0541</td>\n      <td>0.962</td>\n      <td>0.0617</td>\n      <td>93.994</td>\n      <td>15</td>\n      <td>14.409094</td>\n      <td>0.000000</td>\n      <td>0</td>\n      <td>Succesful</td>\n      <td>Unsuccesful</td>\n    </tr>\n  </tbody>\n</table>\n<p>10 rows × 21 columns</p>\n</div>"
     },
     "metadata": {},
     "execution_count": 304
    }
   ],
   "source": [
    "test[\"prediction\"] = rf_predict\n",
    "test.sample(10)"
   ]
  },
  {
   "source": [
    "## Feature importance"
   ],
   "cell_type": "markdown",
   "metadata": {}
  },
  {
   "cell_type": "code",
   "execution_count": 305,
   "metadata": {},
   "outputs": [
    {
     "output_type": "stream",
     "name": "stdout",
     "text": [
      "key 0.05351658779454131\nmode 0.019001341362521292\ntime_signature 0.006645769162628864\nduration_ms_x 0.08482956463589594\ndanceability 0.07708168325625901\nloudness 0.08416154539117747\nenergy 0.14061642243078254\ninstrumentalness 0.07749308478114333\nliveness 0.11454402038792878\nvalence 0.10522438884852013\nspeechiness 0.1153189699306076\ntempo 0.12156662201799373\n"
     ]
    }
   ],
   "source": [
    "for name, score in zip(selected_features, tree.feature_importances_):\n",
    "    print(name, score)"
   ]
  },
  {
   "source": [
    "## Hidden gems"
   ],
   "cell_type": "markdown",
   "metadata": {}
  },
  {
   "cell_type": "code",
   "execution_count": 306,
   "metadata": {},
   "outputs": [
    {
     "output_type": "error",
     "ename": "ValueError",
     "evalue": "a must be greater than 0 unless no samples are taken",
     "traceback": [
      "\u001b[1;31m---------------------------------------------------------------------------\u001b[0m",
      "\u001b[1;31mValueError\u001b[0m                                Traceback (most recent call last)",
      "\u001b[1;32m<ipython-input-306-89215d2f1c32>\u001b[0m in \u001b[0;36m<module>\u001b[1;34m\u001b[0m\n\u001b[0;32m      1\u001b[0m \u001b[0mhdf\u001b[0m \u001b[1;33m=\u001b[0m \u001b[0mtest\u001b[0m\u001b[1;33m.\u001b[0m\u001b[0mloc\u001b[0m\u001b[1;33m[\u001b[0m\u001b[1;33m(\u001b[0m\u001b[0mtest\u001b[0m\u001b[1;33m[\u001b[0m\u001b[1;34m'popularity_cat'\u001b[0m\u001b[1;33m]\u001b[0m \u001b[1;33m==\u001b[0m \u001b[1;34m'Unsuccesful'\u001b[0m\u001b[1;33m)\u001b[0m \u001b[1;33m&\u001b[0m \u001b[1;33m(\u001b[0m\u001b[0mtest\u001b[0m\u001b[1;33m[\u001b[0m\u001b[1;34m'prediction'\u001b[0m\u001b[1;33m]\u001b[0m \u001b[1;33m==\u001b[0m \u001b[1;34m'Succesful'\u001b[0m\u001b[1;33m)\u001b[0m\u001b[1;33m,\u001b[0m \u001b[1;33m:\u001b[0m\u001b[1;33m]\u001b[0m\u001b[1;33m\u001b[0m\u001b[1;33m\u001b[0m\u001b[0m\n\u001b[1;32m----> 2\u001b[1;33m \u001b[0mhdf\u001b[0m\u001b[1;33m.\u001b[0m\u001b[0msample\u001b[0m\u001b[1;33m(\u001b[0m\u001b[1;36m5\u001b[0m\u001b[1;33m)\u001b[0m\u001b[1;33m\u001b[0m\u001b[1;33m\u001b[0m\u001b[0m\n\u001b[0m",
      "\u001b[1;32m~\\.virtualenvs\\rai-data-exploration-WkTrr0TE\\lib\\site-packages\\pandas\\core\\generic.py\u001b[0m in \u001b[0;36msample\u001b[1;34m(self, n, frac, replace, weights, random_state, axis)\u001b[0m\n\u001b[0;32m   4991\u001b[0m             )\n\u001b[0;32m   4992\u001b[0m \u001b[1;33m\u001b[0m\u001b[0m\n\u001b[1;32m-> 4993\u001b[1;33m         \u001b[0mlocs\u001b[0m \u001b[1;33m=\u001b[0m \u001b[0mrs\u001b[0m\u001b[1;33m.\u001b[0m\u001b[0mchoice\u001b[0m\u001b[1;33m(\u001b[0m\u001b[0maxis_length\u001b[0m\u001b[1;33m,\u001b[0m \u001b[0msize\u001b[0m\u001b[1;33m=\u001b[0m\u001b[0mn\u001b[0m\u001b[1;33m,\u001b[0m \u001b[0mreplace\u001b[0m\u001b[1;33m=\u001b[0m\u001b[0mreplace\u001b[0m\u001b[1;33m,\u001b[0m \u001b[0mp\u001b[0m\u001b[1;33m=\u001b[0m\u001b[0mweights\u001b[0m\u001b[1;33m)\u001b[0m\u001b[1;33m\u001b[0m\u001b[1;33m\u001b[0m\u001b[0m\n\u001b[0m\u001b[0;32m   4994\u001b[0m         \u001b[1;32mreturn\u001b[0m \u001b[0mself\u001b[0m\u001b[1;33m.\u001b[0m\u001b[0mtake\u001b[0m\u001b[1;33m(\u001b[0m\u001b[0mlocs\u001b[0m\u001b[1;33m,\u001b[0m \u001b[0maxis\u001b[0m\u001b[1;33m=\u001b[0m\u001b[0maxis\u001b[0m\u001b[1;33m)\u001b[0m\u001b[1;33m\u001b[0m\u001b[1;33m\u001b[0m\u001b[0m\n\u001b[0;32m   4995\u001b[0m \u001b[1;33m\u001b[0m\u001b[0m\n",
      "\u001b[1;32mmtrand.pyx\u001b[0m in \u001b[0;36mnumpy.random.mtrand.RandomState.choice\u001b[1;34m()\u001b[0m\n",
      "\u001b[1;31mValueError\u001b[0m: a must be greater than 0 unless no samples are taken"
     ]
    }
   ],
   "source": [
    "hdf = test.loc[(test['popularity_cat'] == 'Unsuccesful') & (test['prediction'] == 'Succesful'), :]\n",
    "hdf.sample(5)"
   ]
  },
  {
   "cell_type": "code",
   "execution_count": null,
   "metadata": {},
   "outputs": [],
   "source": []
  }
 ],
 "metadata": {
  "kernelspec": {
   "display_name": "Python 3",
   "language": "python",
   "name": "python3"
  },
  "language_info": {
   "codemirror_mode": {
    "name": "ipython",
    "version": 3
   },
   "file_extension": ".py",
   "mimetype": "text/x-python",
   "name": "python",
   "nbconvert_exporter": "python",
   "pygments_lexer": "ipython3",
   "version": "3.9.0-final"
  }
 },
 "nbformat": 4,
 "nbformat_minor": 4
}