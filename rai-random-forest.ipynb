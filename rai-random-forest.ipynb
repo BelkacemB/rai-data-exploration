{
 "cells": [
  {
   "cell_type": "code",
   "execution_count": 45,
   "metadata": {},
   "outputs": [],
   "source": [
    "import pandas as pd \n",
    "import numpy as np\n",
    "from sklearn.model_selection import train_test_split\n",
    "\n",
    "df = pd.read_csv(\"rai.csv\")\n",
    "df = df.sort_values(by=['popularity'])\n",
    "df = df.drop_duplicates(subset=['id'])\n",
    "df = df.drop_duplicates(subset=['name', 'main_artist'], keep='first')"
   ]
  },
  {
   "cell_type": "code",
   "execution_count": 46,
   "metadata": {},
   "outputs": [
    {
     "output_type": "execute_result",
     "data": {
      "text/plain": [
       "               key         mode  time_signature  duration_ms_x  danceability  \\\n",
       "count  1691.000000  1691.000000     1691.000000    1691.000000   1691.000000   \n",
       "mean      5.311059     0.450621        3.896511  346177.345358      0.568270   \n",
       "std       3.689292     0.497703        0.353252  100362.876571      0.135562   \n",
       "min       0.000000     0.000000        1.000000   49266.000000      0.196000   \n",
       "25%       1.000000     0.000000        4.000000  290291.000000      0.473000   \n",
       "50%       6.000000     0.000000        4.000000  342439.000000      0.590000   \n",
       "75%       9.000000     1.000000        4.000000  388093.000000      0.674000   \n",
       "max      11.000000     1.000000        5.000000  945016.000000      0.883000   \n",
       "\n",
       "          loudness       energy  instrumentalness     liveness      valence  \\\n",
       "count  1691.000000  1691.000000       1691.000000  1691.000000  1691.000000   \n",
       "mean     -7.630745     0.753080          0.021678     0.206796     0.762262   \n",
       "std       3.840073     0.160376          0.111717     0.170393     0.178160   \n",
       "min     -27.008000     0.037000          0.000000     0.017300     0.036300   \n",
       "25%      -9.957500     0.663500          0.000000     0.087550     0.668000   \n",
       "50%      -6.973000     0.789000          0.000012     0.143000     0.810000   \n",
       "75%      -4.949500     0.873500          0.000320     0.290000     0.898500   \n",
       "max       1.108000     0.994000          0.939000     0.982000     0.983000   \n",
       "\n",
       "       speechiness        tempo   popularity  youtube_views  \n",
       "count  1691.000000  1691.000000  1691.000000   1.691000e+03  \n",
       "mean      0.085771   122.057871     5.551153   2.075357e+06  \n",
       "std       0.065963    35.231541     7.362882   7.123416e+06  \n",
       "min       0.023500    53.985000     0.000000   0.000000e+00  \n",
       "25%       0.044000    93.963500     1.000000   3.735000e+03  \n",
       "50%       0.062000   103.194000     3.000000   7.147800e+04  \n",
       "75%       0.098550   158.877000     8.000000   9.476350e+05  \n",
       "max       0.525000   206.878000    47.000000   1.175880e+08  "
      ],
      "text/html": "<div>\n<style scoped>\n    .dataframe tbody tr th:only-of-type {\n        vertical-align: middle;\n    }\n\n    .dataframe tbody tr th {\n        vertical-align: top;\n    }\n\n    .dataframe thead th {\n        text-align: right;\n    }\n</style>\n<table border=\"1\" class=\"dataframe\">\n  <thead>\n    <tr style=\"text-align: right;\">\n      <th></th>\n      <th>key</th>\n      <th>mode</th>\n      <th>time_signature</th>\n      <th>duration_ms_x</th>\n      <th>danceability</th>\n      <th>loudness</th>\n      <th>energy</th>\n      <th>instrumentalness</th>\n      <th>liveness</th>\n      <th>valence</th>\n      <th>speechiness</th>\n      <th>tempo</th>\n      <th>popularity</th>\n      <th>youtube_views</th>\n    </tr>\n  </thead>\n  <tbody>\n    <tr>\n      <th>count</th>\n      <td>1691.000000</td>\n      <td>1691.000000</td>\n      <td>1691.000000</td>\n      <td>1691.000000</td>\n      <td>1691.000000</td>\n      <td>1691.000000</td>\n      <td>1691.000000</td>\n      <td>1691.000000</td>\n      <td>1691.000000</td>\n      <td>1691.000000</td>\n      <td>1691.000000</td>\n      <td>1691.000000</td>\n      <td>1691.000000</td>\n      <td>1.691000e+03</td>\n    </tr>\n    <tr>\n      <th>mean</th>\n      <td>5.311059</td>\n      <td>0.450621</td>\n      <td>3.896511</td>\n      <td>346177.345358</td>\n      <td>0.568270</td>\n      <td>-7.630745</td>\n      <td>0.753080</td>\n      <td>0.021678</td>\n      <td>0.206796</td>\n      <td>0.762262</td>\n      <td>0.085771</td>\n      <td>122.057871</td>\n      <td>5.551153</td>\n      <td>2.075357e+06</td>\n    </tr>\n    <tr>\n      <th>std</th>\n      <td>3.689292</td>\n      <td>0.497703</td>\n      <td>0.353252</td>\n      <td>100362.876571</td>\n      <td>0.135562</td>\n      <td>3.840073</td>\n      <td>0.160376</td>\n      <td>0.111717</td>\n      <td>0.170393</td>\n      <td>0.178160</td>\n      <td>0.065963</td>\n      <td>35.231541</td>\n      <td>7.362882</td>\n      <td>7.123416e+06</td>\n    </tr>\n    <tr>\n      <th>min</th>\n      <td>0.000000</td>\n      <td>0.000000</td>\n      <td>1.000000</td>\n      <td>49266.000000</td>\n      <td>0.196000</td>\n      <td>-27.008000</td>\n      <td>0.037000</td>\n      <td>0.000000</td>\n      <td>0.017300</td>\n      <td>0.036300</td>\n      <td>0.023500</td>\n      <td>53.985000</td>\n      <td>0.000000</td>\n      <td>0.000000e+00</td>\n    </tr>\n    <tr>\n      <th>25%</th>\n      <td>1.000000</td>\n      <td>0.000000</td>\n      <td>4.000000</td>\n      <td>290291.000000</td>\n      <td>0.473000</td>\n      <td>-9.957500</td>\n      <td>0.663500</td>\n      <td>0.000000</td>\n      <td>0.087550</td>\n      <td>0.668000</td>\n      <td>0.044000</td>\n      <td>93.963500</td>\n      <td>1.000000</td>\n      <td>3.735000e+03</td>\n    </tr>\n    <tr>\n      <th>50%</th>\n      <td>6.000000</td>\n      <td>0.000000</td>\n      <td>4.000000</td>\n      <td>342439.000000</td>\n      <td>0.590000</td>\n      <td>-6.973000</td>\n      <td>0.789000</td>\n      <td>0.000012</td>\n      <td>0.143000</td>\n      <td>0.810000</td>\n      <td>0.062000</td>\n      <td>103.194000</td>\n      <td>3.000000</td>\n      <td>7.147800e+04</td>\n    </tr>\n    <tr>\n      <th>75%</th>\n      <td>9.000000</td>\n      <td>1.000000</td>\n      <td>4.000000</td>\n      <td>388093.000000</td>\n      <td>0.674000</td>\n      <td>-4.949500</td>\n      <td>0.873500</td>\n      <td>0.000320</td>\n      <td>0.290000</td>\n      <td>0.898500</td>\n      <td>0.098550</td>\n      <td>158.877000</td>\n      <td>8.000000</td>\n      <td>9.476350e+05</td>\n    </tr>\n    <tr>\n      <th>max</th>\n      <td>11.000000</td>\n      <td>1.000000</td>\n      <td>5.000000</td>\n      <td>945016.000000</td>\n      <td>0.883000</td>\n      <td>1.108000</td>\n      <td>0.994000</td>\n      <td>0.939000</td>\n      <td>0.982000</td>\n      <td>0.983000</td>\n      <td>0.525000</td>\n      <td>206.878000</td>\n      <td>47.000000</td>\n      <td>1.175880e+08</td>\n    </tr>\n  </tbody>\n</table>\n</div>"
     },
     "metadata": {},
     "execution_count": 46
    }
   ],
   "source": [
    "df.describe()"
   ]
  },
  {
   "source": [
    "## Feature engineering"
   ],
   "cell_type": "markdown",
   "metadata": {}
  },
  {
   "cell_type": "code",
   "execution_count": 47,
   "metadata": {},
   "outputs": [],
   "source": [
    "df['popularity_cat'] = 0\n",
    "df.loc[(df['popularity'] < 8), 'popularity_cat' ] = 0 \n",
    "df.loc[(df['popularity'] >= 8), 'popularity_cat'] = 1"
   ]
  },
  {
   "source": [
    "## Split & prepare the data"
   ],
   "cell_type": "markdown",
   "metadata": {}
  },
  {
   "cell_type": "code",
   "execution_count": 48,
   "metadata": {},
   "outputs": [],
   "source": [
    "train, test = train_test_split(df, test_size=0.2)\n",
    "\n",
    "selected_features = [\"key\", \"mode\", \"time_signature\", \"duration_ms_x\",\"danceability\", \"loudness\", \"energy\", \"instrumentalness\", \"liveness\", \"valence\", \"speechiness\", \"tempo\"] \n",
    "selected_target = \"popularity_cat\"\n",
    "\n",
    "train_x = train[selected_features] \n",
    "train_y = train[selected_target]\n",
    "\n",
    "test_x = test[selected_features] \n",
    "test_y = test[selected_target]"
   ]
  },
  {
   "source": [
    "## Building the model"
   ],
   "cell_type": "markdown",
   "metadata": {}
  },
  {
   "cell_type": "code",
   "execution_count": 49,
   "metadata": {},
   "outputs": [],
   "source": [
    "from sklearn.ensemble import RandomForestClassifier\n",
    "forest = RandomForestClassifier(n_estimators = 10)"
   ]
  },
  {
   "cell_type": "code",
   "execution_count": 50,
   "metadata": {},
   "outputs": [
    {
     "output_type": "execute_result",
     "data": {
      "text/plain": [
       "RandomForestClassifier(n_estimators=10)"
      ]
     },
     "metadata": {},
     "execution_count": 50
    }
   ],
   "source": [
    "forest.fit(X = train_x, y = train_y)"
   ]
  },
  {
   "cell_type": "code",
   "execution_count": 51,
   "metadata": {},
   "outputs": [
    {
     "output_type": "execute_result",
     "data": {
      "text/plain": [
       "0.7286135693215339"
      ]
     },
     "metadata": {},
     "execution_count": 51
    }
   ],
   "source": [
    "from sklearn.metrics import make_scorer, accuracy_score, roc_auc_score \n",
    "rf_predict = forest.predict(test_x)\n",
    "accuracy_score(test_y, rf_predict)"
   ]
  },
  {
   "cell_type": "code",
   "execution_count": 52,
   "metadata": {},
   "outputs": [
    {
     "output_type": "execute_result",
     "data": {
      "text/plain": [
       "                          id                 name      main_artist  key  mode  \\\n",
       "673   39S81pUG3BUeCpACD7iAXE     Nagouad Nabeghik      Cheb Djalil    9     1   \n",
       "805   0KdtSvEZFB1wvBNzo9d2bW  لوكان يغيب غير نهار            Warda    8     0   \n",
       "1452  3thILVL2mKnzDCZafm0OTR      ROUKED EL ACHRA  Cheikha Rimitti    7     0   \n",
       "7     0GDjF1aq0W3hZN9whZtcmw     Al Hachwa Hachwa       Cheb Bello    4     1   \n",
       "1957  0TuMU1h5dlqSx3kzL8csf2        Bafana bafana       Cheb Bilal    1     1   \n",
       "\n",
       "      time_signature  duration_ms_x  danceability  loudness  energy  \\\n",
       "673                4         418841         0.448    -8.806   0.848   \n",
       "805                4         455706         0.589    -8.281   0.831   \n",
       "1452               4         706280         0.533    -5.147   0.920   \n",
       "7                  4         315715         0.638    -5.637   0.883   \n",
       "1957               4         286217         0.688    -3.727   0.932   \n",
       "\n",
       "      instrumentalness  liveness  valence  speechiness    tempo  popularity  \\\n",
       "673           0.002850    0.1420    0.913       0.0685   89.930           7   \n",
       "805           0.000388    0.1000    0.951       0.0848   93.899           6   \n",
       "1452          0.000000    0.3800    0.541       0.1020  171.705           3   \n",
       "7             0.000010    0.0814    0.965       0.0423   89.898          42   \n",
       "1957          0.000003    0.8090    0.722       0.0440  135.969           1   \n",
       "\n",
       "      youtube_views  popularity_cat  prediction  \n",
       "673            1595               0           0  \n",
       "805          286934               0           0  \n",
       "1452           9739               0           0  \n",
       "7          50406176               1           1  \n",
       "1957         130121               0           0  "
      ],
      "text/html": "<div>\n<style scoped>\n    .dataframe tbody tr th:only-of-type {\n        vertical-align: middle;\n    }\n\n    .dataframe tbody tr th {\n        vertical-align: top;\n    }\n\n    .dataframe thead th {\n        text-align: right;\n    }\n</style>\n<table border=\"1\" class=\"dataframe\">\n  <thead>\n    <tr style=\"text-align: right;\">\n      <th></th>\n      <th>id</th>\n      <th>name</th>\n      <th>main_artist</th>\n      <th>key</th>\n      <th>mode</th>\n      <th>time_signature</th>\n      <th>duration_ms_x</th>\n      <th>danceability</th>\n      <th>loudness</th>\n      <th>energy</th>\n      <th>instrumentalness</th>\n      <th>liveness</th>\n      <th>valence</th>\n      <th>speechiness</th>\n      <th>tempo</th>\n      <th>popularity</th>\n      <th>youtube_views</th>\n      <th>popularity_cat</th>\n      <th>prediction</th>\n    </tr>\n  </thead>\n  <tbody>\n    <tr>\n      <th>673</th>\n      <td>39S81pUG3BUeCpACD7iAXE</td>\n      <td>Nagouad Nabeghik</td>\n      <td>Cheb Djalil</td>\n      <td>9</td>\n      <td>1</td>\n      <td>4</td>\n      <td>418841</td>\n      <td>0.448</td>\n      <td>-8.806</td>\n      <td>0.848</td>\n      <td>0.002850</td>\n      <td>0.1420</td>\n      <td>0.913</td>\n      <td>0.0685</td>\n      <td>89.930</td>\n      <td>7</td>\n      <td>1595</td>\n      <td>0</td>\n      <td>0</td>\n    </tr>\n    <tr>\n      <th>805</th>\n      <td>0KdtSvEZFB1wvBNzo9d2bW</td>\n      <td>لوكان يغيب غير نهار</td>\n      <td>Warda</td>\n      <td>8</td>\n      <td>0</td>\n      <td>4</td>\n      <td>455706</td>\n      <td>0.589</td>\n      <td>-8.281</td>\n      <td>0.831</td>\n      <td>0.000388</td>\n      <td>0.1000</td>\n      <td>0.951</td>\n      <td>0.0848</td>\n      <td>93.899</td>\n      <td>6</td>\n      <td>286934</td>\n      <td>0</td>\n      <td>0</td>\n    </tr>\n    <tr>\n      <th>1452</th>\n      <td>3thILVL2mKnzDCZafm0OTR</td>\n      <td>ROUKED EL ACHRA</td>\n      <td>Cheikha Rimitti</td>\n      <td>7</td>\n      <td>0</td>\n      <td>4</td>\n      <td>706280</td>\n      <td>0.533</td>\n      <td>-5.147</td>\n      <td>0.920</td>\n      <td>0.000000</td>\n      <td>0.3800</td>\n      <td>0.541</td>\n      <td>0.1020</td>\n      <td>171.705</td>\n      <td>3</td>\n      <td>9739</td>\n      <td>0</td>\n      <td>0</td>\n    </tr>\n    <tr>\n      <th>7</th>\n      <td>0GDjF1aq0W3hZN9whZtcmw</td>\n      <td>Al Hachwa Hachwa</td>\n      <td>Cheb Bello</td>\n      <td>4</td>\n      <td>1</td>\n      <td>4</td>\n      <td>315715</td>\n      <td>0.638</td>\n      <td>-5.637</td>\n      <td>0.883</td>\n      <td>0.000010</td>\n      <td>0.0814</td>\n      <td>0.965</td>\n      <td>0.0423</td>\n      <td>89.898</td>\n      <td>42</td>\n      <td>50406176</td>\n      <td>1</td>\n      <td>1</td>\n    </tr>\n    <tr>\n      <th>1957</th>\n      <td>0TuMU1h5dlqSx3kzL8csf2</td>\n      <td>Bafana bafana</td>\n      <td>Cheb Bilal</td>\n      <td>1</td>\n      <td>1</td>\n      <td>4</td>\n      <td>286217</td>\n      <td>0.688</td>\n      <td>-3.727</td>\n      <td>0.932</td>\n      <td>0.000003</td>\n      <td>0.8090</td>\n      <td>0.722</td>\n      <td>0.0440</td>\n      <td>135.969</td>\n      <td>1</td>\n      <td>130121</td>\n      <td>0</td>\n      <td>0</td>\n    </tr>\n  </tbody>\n</table>\n</div>"
     },
     "metadata": {},
     "execution_count": 52
    }
   ],
   "source": [
    "test[\"prediction\"] = rf_predict\n",
    "test.head()"
   ]
  },
  {
   "source": [
    "## Plotting an estimator"
   ],
   "cell_type": "markdown",
   "metadata": {}
  },
  {
   "cell_type": "code",
   "execution_count": 53,
   "metadata": {},
   "outputs": [
    {
     "output_type": "execute_result",
     "data": {
      "text/plain": [
       "1"
      ]
     },
     "metadata": {},
     "execution_count": 53
    }
   ],
   "source": [
    "estimator = forest.estimators_[5]\n",
    "\n",
    "from sklearn.tree import export_graphviz\n",
    "# Export as dot file\n",
    "export_graphviz(estimator, out_file='tree.dot', \n",
    "                feature_names = selected_features,\n",
    "                class_names = selected_target,\n",
    "                rounded = True, proportion = False, \n",
    "                precision = 2, filled = True)\n",
    "\n",
    "import os\n",
    "os.system('dot -Tpng tree.dot -o tree.png')\n"
   ]
  },
  {
   "cell_type": "code",
   "execution_count": null,
   "metadata": {},
   "outputs": [],
   "source": []
  }
 ],
 "metadata": {
  "kernelspec": {
   "display_name": "Python 3",
   "language": "python",
   "name": "python3"
  },
  "language_info": {
   "codemirror_mode": {
    "name": "ipython",
    "version": 3
   },
   "file_extension": ".py",
   "mimetype": "text/x-python",
   "name": "python",
   "nbconvert_exporter": "python",
   "pygments_lexer": "ipython3",
   "version": "3.9.0-final"
  }
 },
 "nbformat": 4,
 "nbformat_minor": 4
}