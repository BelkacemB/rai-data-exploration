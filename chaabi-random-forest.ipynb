{
 "cells": [
  {
   "cell_type": "code",
   "execution_count": 36,
   "metadata": {},
   "outputs": [],
   "source": [
    "import pandas as pd \n",
    "import numpy as np\n",
    "from sklearn.model_selection import train_test_split\n",
    "from sklearn.metrics import plot_confusion_matrix\n",
    "import matplotlib.pyplot as plt\n",
    "\n",
    "selected_features = [\"duration_ms_x\",\"danceability\",\"energy\", \"instrumentalness\", \"liveness\", \"valence\", \"speechiness\", \"tempo\"] \n",
    "\n",
    "SUCCESS_FEATURE = 'popularity'\n",
    "SUCCESS_THRESHOLD = 0.75\n",
    "MILD_SUCCESS_THRESHOLD = 0.4\n",
    "\n",
    "df = pd.read_csv(\"chaabi.csv\")\n",
    "df = df.sort_values(by=['popularity'])\n",
    "df = df.drop_duplicates(subset=['id'])\n",
    "df = df.drop_duplicates(subset=['name', 'main_artist'], keep='first')\n",
    "df = df.drop_duplicates(subset=selected_features, keep='first')\n"
   ]
  },
  {
   "cell_type": "code",
   "execution_count": 37,
   "metadata": {},
   "outputs": [
    {
     "output_type": "execute_result",
     "data": {
      "text/plain": [
       "              key        mode  time_signature  duration_ms_x  danceability  \\\n",
       "count  958.000000  958.000000      958.000000   9.580000e+02    958.000000   \n",
       "mean     5.075157    0.581420        3.757829   4.602864e+05      0.517825   \n",
       "std      3.628891    0.493584        0.504749   4.431472e+05      0.117708   \n",
       "min      0.000000    0.000000        1.000000   6.998400e+04      0.227000   \n",
       "25%      2.000000    0.000000        3.000000   2.333898e+05      0.427000   \n",
       "50%      5.000000    1.000000        4.000000   3.400080e+05      0.517500   \n",
       "75%      8.000000    1.000000        4.000000   4.749628e+05      0.602000   \n",
       "max     11.000000    1.000000        5.000000   4.388522e+06      0.850000   \n",
       "\n",
       "         loudness      energy  instrumentalness    liveness     valence  \\\n",
       "count  958.000000  958.000000        958.000000  958.000000  958.000000   \n",
       "mean    -8.917685    0.601087          0.120644    0.244710    0.775332   \n",
       "std      3.707884    0.185415          0.267462    0.185106    0.156906   \n",
       "min    -27.767000    0.000246          0.000000    0.021600    0.140000   \n",
       "25%    -10.720500    0.466000          0.000016    0.113000    0.692000   \n",
       "50%     -8.720000    0.587000          0.000493    0.180500    0.812000   \n",
       "75%     -6.496750    0.736750          0.030150    0.333000    0.897750   \n",
       "max      2.917000    0.983000          0.973000    0.952000    0.993000   \n",
       "\n",
       "       speechiness       tempo  popularity  youtube_views  \n",
       "count   958.000000  958.000000  958.000000   9.580000e+02  \n",
       "mean      0.058222  119.205842    2.834029   2.060257e+05  \n",
       "std       0.035857   25.539410    4.714482   8.718157e+05  \n",
       "min       0.026900   50.275000    0.000000   0.000000e+00  \n",
       "25%       0.038100  102.158750    0.000000   3.305000e+02  \n",
       "50%       0.047050  113.075000    1.000000   3.655000e+03  \n",
       "75%       0.064425  136.457000    4.000000   4.177175e+04  \n",
       "max       0.421000  209.148000   35.000000   1.432023e+07  "
      ],
      "text/html": "<div>\n<style scoped>\n    .dataframe tbody tr th:only-of-type {\n        vertical-align: middle;\n    }\n\n    .dataframe tbody tr th {\n        vertical-align: top;\n    }\n\n    .dataframe thead th {\n        text-align: right;\n    }\n</style>\n<table border=\"1\" class=\"dataframe\">\n  <thead>\n    <tr style=\"text-align: right;\">\n      <th></th>\n      <th>key</th>\n      <th>mode</th>\n      <th>time_signature</th>\n      <th>duration_ms_x</th>\n      <th>danceability</th>\n      <th>loudness</th>\n      <th>energy</th>\n      <th>instrumentalness</th>\n      <th>liveness</th>\n      <th>valence</th>\n      <th>speechiness</th>\n      <th>tempo</th>\n      <th>popularity</th>\n      <th>youtube_views</th>\n    </tr>\n  </thead>\n  <tbody>\n    <tr>\n      <th>count</th>\n      <td>958.000000</td>\n      <td>958.000000</td>\n      <td>958.000000</td>\n      <td>9.580000e+02</td>\n      <td>958.000000</td>\n      <td>958.000000</td>\n      <td>958.000000</td>\n      <td>958.000000</td>\n      <td>958.000000</td>\n      <td>958.000000</td>\n      <td>958.000000</td>\n      <td>958.000000</td>\n      <td>958.000000</td>\n      <td>9.580000e+02</td>\n    </tr>\n    <tr>\n      <th>mean</th>\n      <td>5.075157</td>\n      <td>0.581420</td>\n      <td>3.757829</td>\n      <td>4.602864e+05</td>\n      <td>0.517825</td>\n      <td>-8.917685</td>\n      <td>0.601087</td>\n      <td>0.120644</td>\n      <td>0.244710</td>\n      <td>0.775332</td>\n      <td>0.058222</td>\n      <td>119.205842</td>\n      <td>2.834029</td>\n      <td>2.060257e+05</td>\n    </tr>\n    <tr>\n      <th>std</th>\n      <td>3.628891</td>\n      <td>0.493584</td>\n      <td>0.504749</td>\n      <td>4.431472e+05</td>\n      <td>0.117708</td>\n      <td>3.707884</td>\n      <td>0.185415</td>\n      <td>0.267462</td>\n      <td>0.185106</td>\n      <td>0.156906</td>\n      <td>0.035857</td>\n      <td>25.539410</td>\n      <td>4.714482</td>\n      <td>8.718157e+05</td>\n    </tr>\n    <tr>\n      <th>min</th>\n      <td>0.000000</td>\n      <td>0.000000</td>\n      <td>1.000000</td>\n      <td>6.998400e+04</td>\n      <td>0.227000</td>\n      <td>-27.767000</td>\n      <td>0.000246</td>\n      <td>0.000000</td>\n      <td>0.021600</td>\n      <td>0.140000</td>\n      <td>0.026900</td>\n      <td>50.275000</td>\n      <td>0.000000</td>\n      <td>0.000000e+00</td>\n    </tr>\n    <tr>\n      <th>25%</th>\n      <td>2.000000</td>\n      <td>0.000000</td>\n      <td>3.000000</td>\n      <td>2.333898e+05</td>\n      <td>0.427000</td>\n      <td>-10.720500</td>\n      <td>0.466000</td>\n      <td>0.000016</td>\n      <td>0.113000</td>\n      <td>0.692000</td>\n      <td>0.038100</td>\n      <td>102.158750</td>\n      <td>0.000000</td>\n      <td>3.305000e+02</td>\n    </tr>\n    <tr>\n      <th>50%</th>\n      <td>5.000000</td>\n      <td>1.000000</td>\n      <td>4.000000</td>\n      <td>3.400080e+05</td>\n      <td>0.517500</td>\n      <td>-8.720000</td>\n      <td>0.587000</td>\n      <td>0.000493</td>\n      <td>0.180500</td>\n      <td>0.812000</td>\n      <td>0.047050</td>\n      <td>113.075000</td>\n      <td>1.000000</td>\n      <td>3.655000e+03</td>\n    </tr>\n    <tr>\n      <th>75%</th>\n      <td>8.000000</td>\n      <td>1.000000</td>\n      <td>4.000000</td>\n      <td>4.749628e+05</td>\n      <td>0.602000</td>\n      <td>-6.496750</td>\n      <td>0.736750</td>\n      <td>0.030150</td>\n      <td>0.333000</td>\n      <td>0.897750</td>\n      <td>0.064425</td>\n      <td>136.457000</td>\n      <td>4.000000</td>\n      <td>4.177175e+04</td>\n    </tr>\n    <tr>\n      <th>max</th>\n      <td>11.000000</td>\n      <td>1.000000</td>\n      <td>5.000000</td>\n      <td>4.388522e+06</td>\n      <td>0.850000</td>\n      <td>2.917000</td>\n      <td>0.983000</td>\n      <td>0.973000</td>\n      <td>0.952000</td>\n      <td>0.993000</td>\n      <td>0.421000</td>\n      <td>209.148000</td>\n      <td>35.000000</td>\n      <td>1.432023e+07</td>\n    </tr>\n  </tbody>\n</table>\n</div>"
     },
     "metadata": {},
     "execution_count": 37
    }
   ],
   "source": [
    "df.describe()"
   ]
  },
  {
   "source": [
    "## Feature engineering"
   ],
   "cell_type": "markdown",
   "metadata": {}
  },
  {
   "cell_type": "code",
   "execution_count": 38,
   "metadata": {},
   "outputs": [],
   "source": [
    "df['popularity_cat'] = \"Unsuccesful\"\n",
    "# TODO Use spotify, Youtube and Last FM \n",
    "df.loc[(df[SUCCESS_FEATURE] > df[SUCCESS_FEATURE].quantile(SUCCESS_THRESHOLD)), 'popularity_cat'] = \"Succesful\"\n",
    "df.loc[(df[SUCCESS_FEATURE] <= df[SUCCESS_FEATURE].quantile(SUCCESS_THRESHOLD)) & (df[SUCCESS_FEATURE] > df[SUCCESS_FEATURE].quantile(MILD_SUCCESS_THRESHOLD)), 'popularity_cat'] = \"Mildly Succesful\""
   ]
  },
  {
   "source": [
    "## Split & prepare the data"
   ],
   "cell_type": "markdown",
   "metadata": {}
  },
  {
   "cell_type": "code",
   "execution_count": 39,
   "metadata": {},
   "outputs": [],
   "source": [
    "train, test = train_test_split(df, test_size=0.2)\n",
    "\n",
    "selected_target = \"popularity_cat\"\n",
    "\n",
    "train_x = train[selected_features] \n",
    "train_y = train[selected_target]\n",
    "\n",
    "test_x = test[selected_features] \n",
    "test_y = test[selected_target]"
   ]
  },
  {
   "source": [
    "## Building the model"
   ],
   "cell_type": "markdown",
   "metadata": {}
  },
  {
   "cell_type": "code",
   "execution_count": 40,
   "metadata": {},
   "outputs": [],
   "source": [
    "from sklearn.ensemble import GradientBoostingClassifier, RandomForestClassifier\n",
    "from sklearn.dummy import DummyClassifier\n",
    "forest = RandomForestClassifier(max_depth=5, min_samples_leaf=2, n_estimators=50)\n",
    "dummy_clf = DummyClassifier(strategy='stratified')"
   ]
  },
  {
   "cell_type": "code",
   "execution_count": 41,
   "metadata": {},
   "outputs": [
    {
     "output_type": "execute_result",
     "data": {
      "text/plain": [
       "DummyClassifier(strategy='stratified')"
      ]
     },
     "metadata": {},
     "execution_count": 41
    }
   ],
   "source": [
    "forest.fit(X = train_x, y = train_y)\n",
    "dummy_clf.fit(X = train_x, y = train_y)"
   ]
  },
  {
   "cell_type": "code",
   "execution_count": 42,
   "metadata": {},
   "outputs": [
    {
     "output_type": "stream",
     "name": "stdout",
     "text": [
      "Training accuracy: 0.6449086161879896\nTesting accuracy: 0.5572916666666666\nDummy accuracy: 0.4270833333333333\n"
     ]
    }
   ],
   "source": [
    "from sklearn.metrics import make_scorer, accuracy_score, roc_auc_score \n",
    "rf_predict = forest.predict(test_x)\n",
    "train_predict = forest.predict(train_x)\n",
    "dummy_predict = dummy_clf.predict(test_x)\n",
    "print(\"Training accuracy: \" + str(accuracy_score(train_y, train_predict)))\n",
    "print(\"Testing accuracy: \" + str(accuracy_score(test_y, rf_predict)))\n",
    "print(\"Dummy accuracy: \" + str(accuracy_score(test_y, dummy_predict)))"
   ]
  },
  {
   "cell_type": "code",
   "execution_count": 43,
   "metadata": {},
   "outputs": [
    {
     "output_type": "stream",
     "name": "stdout",
     "text": [
      "duration_ms_x 0.16451103956462318\n",
      "danceability 0.09814895736717424\n",
      "energy 0.15171401081081323\n",
      "instrumentalness 0.1094485246640321\n",
      "liveness 0.06986313547785448\n",
      "valence 0.1022936143761152\n",
      "speechiness 0.20009168781755254\n",
      "tempo 0.10392902992183509\n"
     ]
    }
   ],
   "source": [
    "for name, score in zip(selected_features, forest.feature_importances_):\n",
    "    print(name, score)"
   ]
  },
  {
   "cell_type": "code",
   "execution_count": 44,
   "metadata": {},
   "outputs": [
    {
     "output_type": "execute_result",
     "data": {
      "text/plain": [
       "                          id                          name  \\\n",
       "511   6jlN6txUOtro1Ir6eRVEQw                  Klam El Aare   \n",
       "174   3rLn08zyJW0nCwodk9dxFU  Ouryenfagh manahder - Kabyle   \n",
       "536   7hVzCDmnxC0EBFbjKLMyWB                Awah ya dmaghi   \n",
       "1061  1LSc7wU36U9I2Jq30NRTYY                Youm el djemaâ   \n",
       "1398  4kaLtYtExZPOBZ9FBpsifj                    El Mektoub   \n",
       "\n",
       "               main_artist  key  mode  time_signature  duration_ms_x  \\\n",
       "511           Naima Dziria    0     1               4         164362   \n",
       "174        Kamel Messaoudi   10     1               4         442524   \n",
       "536   El Hachemi Guerouabi   11     1               4         662835   \n",
       "1061    Cheikh el Hasnaoui    3     0               3         335987   \n",
       "1398  El Hachemi Guerouabi    2     1               4         440293   \n",
       "\n",
       "      danceability  loudness  energy  instrumentalness  liveness  valence  \\\n",
       "511          0.320    -8.876   0.952          0.000001     0.706    0.858   \n",
       "174          0.660    -8.943   0.626          0.000426     0.131    0.726   \n",
       "536          0.497   -11.969   0.331          0.064600     0.124    0.674   \n",
       "1061         0.444    -8.910   0.476          0.000000     0.369    0.671   \n",
       "1398         0.467   -15.563   0.348          0.000092     0.246    0.666   \n",
       "\n",
       "      speechiness    tempo  popularity  youtube_views    popularity_cat  \\\n",
       "511        0.0645  155.429           3            105  Mildly Succesful   \n",
       "174        0.1120  136.461          10         735865         Succesful   \n",
       "536        0.0636  119.234           2         111221  Mildly Succesful   \n",
       "1061       0.0937   82.088           0          23254       Unsuccesful   \n",
       "1398       0.0562  112.503           0         198451       Unsuccesful   \n",
       "\n",
       "            prediction  \n",
       "511   Mildly Succesful  \n",
       "174        Unsuccesful  \n",
       "536        Unsuccesful  \n",
       "1061       Unsuccesful  \n",
       "1398       Unsuccesful  "
      ],
      "text/html": "<div>\n<style scoped>\n    .dataframe tbody tr th:only-of-type {\n        vertical-align: middle;\n    }\n\n    .dataframe tbody tr th {\n        vertical-align: top;\n    }\n\n    .dataframe thead th {\n        text-align: right;\n    }\n</style>\n<table border=\"1\" class=\"dataframe\">\n  <thead>\n    <tr style=\"text-align: right;\">\n      <th></th>\n      <th>id</th>\n      <th>name</th>\n      <th>main_artist</th>\n      <th>key</th>\n      <th>mode</th>\n      <th>time_signature</th>\n      <th>duration_ms_x</th>\n      <th>danceability</th>\n      <th>loudness</th>\n      <th>energy</th>\n      <th>instrumentalness</th>\n      <th>liveness</th>\n      <th>valence</th>\n      <th>speechiness</th>\n      <th>tempo</th>\n      <th>popularity</th>\n      <th>youtube_views</th>\n      <th>popularity_cat</th>\n      <th>prediction</th>\n    </tr>\n  </thead>\n  <tbody>\n    <tr>\n      <th>511</th>\n      <td>6jlN6txUOtro1Ir6eRVEQw</td>\n      <td>Klam El Aare</td>\n      <td>Naima Dziria</td>\n      <td>0</td>\n      <td>1</td>\n      <td>4</td>\n      <td>164362</td>\n      <td>0.320</td>\n      <td>-8.876</td>\n      <td>0.952</td>\n      <td>0.000001</td>\n      <td>0.706</td>\n      <td>0.858</td>\n      <td>0.0645</td>\n      <td>155.429</td>\n      <td>3</td>\n      <td>105</td>\n      <td>Mildly Succesful</td>\n      <td>Mildly Succesful</td>\n    </tr>\n    <tr>\n      <th>174</th>\n      <td>3rLn08zyJW0nCwodk9dxFU</td>\n      <td>Ouryenfagh manahder - Kabyle</td>\n      <td>Kamel Messaoudi</td>\n      <td>10</td>\n      <td>1</td>\n      <td>4</td>\n      <td>442524</td>\n      <td>0.660</td>\n      <td>-8.943</td>\n      <td>0.626</td>\n      <td>0.000426</td>\n      <td>0.131</td>\n      <td>0.726</td>\n      <td>0.1120</td>\n      <td>136.461</td>\n      <td>10</td>\n      <td>735865</td>\n      <td>Succesful</td>\n      <td>Unsuccesful</td>\n    </tr>\n    <tr>\n      <th>536</th>\n      <td>7hVzCDmnxC0EBFbjKLMyWB</td>\n      <td>Awah ya dmaghi</td>\n      <td>El Hachemi Guerouabi</td>\n      <td>11</td>\n      <td>1</td>\n      <td>4</td>\n      <td>662835</td>\n      <td>0.497</td>\n      <td>-11.969</td>\n      <td>0.331</td>\n      <td>0.064600</td>\n      <td>0.124</td>\n      <td>0.674</td>\n      <td>0.0636</td>\n      <td>119.234</td>\n      <td>2</td>\n      <td>111221</td>\n      <td>Mildly Succesful</td>\n      <td>Unsuccesful</td>\n    </tr>\n    <tr>\n      <th>1061</th>\n      <td>1LSc7wU36U9I2Jq30NRTYY</td>\n      <td>Youm el djemaâ</td>\n      <td>Cheikh el Hasnaoui</td>\n      <td>3</td>\n      <td>0</td>\n      <td>3</td>\n      <td>335987</td>\n      <td>0.444</td>\n      <td>-8.910</td>\n      <td>0.476</td>\n      <td>0.000000</td>\n      <td>0.369</td>\n      <td>0.671</td>\n      <td>0.0937</td>\n      <td>82.088</td>\n      <td>0</td>\n      <td>23254</td>\n      <td>Unsuccesful</td>\n      <td>Unsuccesful</td>\n    </tr>\n    <tr>\n      <th>1398</th>\n      <td>4kaLtYtExZPOBZ9FBpsifj</td>\n      <td>El Mektoub</td>\n      <td>El Hachemi Guerouabi</td>\n      <td>2</td>\n      <td>1</td>\n      <td>4</td>\n      <td>440293</td>\n      <td>0.467</td>\n      <td>-15.563</td>\n      <td>0.348</td>\n      <td>0.000092</td>\n      <td>0.246</td>\n      <td>0.666</td>\n      <td>0.0562</td>\n      <td>112.503</td>\n      <td>0</td>\n      <td>198451</td>\n      <td>Unsuccesful</td>\n      <td>Unsuccesful</td>\n    </tr>\n  </tbody>\n</table>\n</div>"
     },
     "metadata": {},
     "execution_count": 44
    }
   ],
   "source": [
    "test[\"prediction\"] = rf_predict\n",
    "test.sample(5)"
   ]
  },
  {
   "cell_type": "code",
   "execution_count": null,
   "metadata": {},
   "outputs": [],
   "source": []
  }
 ],
 "metadata": {
  "kernelspec": {
   "display_name": "Python 3",
   "language": "python",
   "name": "python3"
  },
  "language_info": {
   "codemirror_mode": {
    "name": "ipython",
    "version": 3
   },
   "file_extension": ".py",
   "mimetype": "text/x-python",
   "name": "python",
   "nbconvert_exporter": "python",
   "pygments_lexer": "ipython3",
   "version": "3.9.0-final"
  }
 },
 "nbformat": 4,
 "nbformat_minor": 4
}