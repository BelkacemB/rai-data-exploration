{
 "cells": [
  {
   "cell_type": "code",
   "execution_count": 243,
   "metadata": {},
   "outputs": [],
   "source": [
    "import pandas as pd\n",
    "import numpy as np\n",
    "import seaborn as sns\n",
    "\n",
    "sns.set(rc={'figure.figsize':(11.7,8.27)})\n",
    "\n",
    "SAMPLE_SIZE = 130\n",
    "\n",
    "RAI_ARTIST = 'Cheb Hasni'\n",
    "POP_ARTIST = 'Kamel Messaoudi'"
   ]
  },
  {
   "cell_type": "code",
   "execution_count": 244,
   "metadata": {},
   "outputs": [],
   "source": [
    "df = pd.read_csv('rai.csv')"
   ]
  },
  {
   "cell_type": "markdown",
   "metadata": {},
   "source": [
    "## Analyze Hasni's data"
   ]
  },
  {
   "cell_type": "code",
   "execution_count": 245,
   "metadata": {},
   "outputs": [
    {
     "data": {
      "text/plain": [
       "(126, 19)"
      ]
     },
     "execution_count": 245,
     "metadata": {},
     "output_type": "execute_result"
    }
   ],
   "source": [
    "df = df[df.main_artist == RAI_ARTIST]\n",
    "df = df.sample(n = min(len(df), SAMPLE_SIZE))\n",
    "df = df.drop_duplicates(subset=['duration_ms_x'], keep='first')\n",
    "df.to_csv('hasni.csv')\n",
    "df.shape"
   ]
  },
  {
   "cell_type": "code",
   "execution_count": 246,
   "metadata": {},
   "outputs": [
    {
     "data": {
      "text/plain": [
       "<AxesSubplot:xlabel='popularity', ylabel='Count'>"
      ]
     },
     "execution_count": 246,
     "metadata": {},
     "output_type": "execute_result"
    },
    {
     "data": {
      "image/png": "[encoded data removed]",
      "text/plain": [
       "<Figure size 842.4x595.44 with 1 Axes>"
      ]
     },
     "metadata": {},
     "output_type": "display_data"
    }
   ],
   "source": [
    "sns.histplot(data=df, x=\"popularity\", kde=True)\n"
   ]
  },
  {
   "cell_type": "markdown",
   "metadata": {},
   "source": [
    "## Compare with other datasets"
   ]
  },
  {
   "cell_type": "code",
   "execution_count": 247,
   "metadata": {},
   "outputs": [
    {
     "data": {
      "text/html": [
       "<div>\n",
       "<style scoped>\n",
       "    .dataframe tbody tr th:only-of-type {\n",
       "        vertical-align: middle;\n",
       "    }\n",
       "\n",
       "    .dataframe tbody tr th {\n",
       "        vertical-align: top;\n",
       "    }\n",
       "\n",
       "    .dataframe thead th {\n",
       "        text-align: right;\n",
       "    }\n",
       "</style>\n",
       "<table border=\"1\" class=\"dataframe\">\n",
       "  <thead>\n",
       "    <tr style=\"text-align: right;\">\n",
       "      <th></th>\n",
       "      <th>id</th>\n",
       "      <th>name</th>\n",
       "      <th>main_artist</th>\n",
       "      <th>key</th>\n",
       "      <th>mode</th>\n",
       "      <th>time_signature</th>\n",
       "      <th>duration_ms_x</th>\n",
       "      <th>danceability</th>\n",
       "      <th>loudness</th>\n",
       "      <th>energy</th>\n",
       "      <th>instrumentalness</th>\n",
       "      <th>liveness</th>\n",
       "      <th>valence</th>\n",
       "      <th>speechiness</th>\n",
       "      <th>tempo</th>\n",
       "      <th>popularity</th>\n",
       "      <th>youtube_views</th>\n",
       "      <th>last_fm_playcount</th>\n",
       "      <th>last_fm_listeners</th>\n",
       "    </tr>\n",
       "  </thead>\n",
       "  <tbody>\n",
       "    <tr>\n",
       "      <th>1724</th>\n",
       "      <td>5xZTetXJqKPQp00nwuPWmG</td>\n",
       "      <td>Tal ghyabek ya ghzali</td>\n",
       "      <td>Cheb Hasni</td>\n",
       "      <td>9</td>\n",
       "      <td>1</td>\n",
       "      <td>3</td>\n",
       "      <td>219800</td>\n",
       "      <td>0.733</td>\n",
       "      <td>-3.924</td>\n",
       "      <td>0.799</td>\n",
       "      <td>0.000017</td>\n",
       "      <td>0.1660</td>\n",
       "      <td>0.829</td>\n",
       "      <td>0.0412</td>\n",
       "      <td>135.671</td>\n",
       "      <td>2</td>\n",
       "      <td>168955.0</td>\n",
       "      <td>80</td>\n",
       "      <td>43</td>\n",
       "    </tr>\n",
       "    <tr>\n",
       "      <th>952</th>\n",
       "      <td>7GaLynDRlYhLTUoPzWHO6A</td>\n",
       "      <td>داك المحكوم</td>\n",
       "      <td>Cheb Hasni</td>\n",
       "      <td>7</td>\n",
       "      <td>1</td>\n",
       "      <td>3</td>\n",
       "      <td>364893</td>\n",
       "      <td>0.433</td>\n",
       "      <td>-3.859</td>\n",
       "      <td>0.836</td>\n",
       "      <td>0.000109</td>\n",
       "      <td>0.0759</td>\n",
       "      <td>0.892</td>\n",
       "      <td>0.1120</td>\n",
       "      <td>176.900</td>\n",
       "      <td>5</td>\n",
       "      <td>1459.0</td>\n",
       "      <td>115</td>\n",
       "      <td>27</td>\n",
       "    </tr>\n",
       "    <tr>\n",
       "      <th>1997</th>\n",
       "      <td>5vATyMKM0gCzU0m3x8tO8X</td>\n",
       "      <td>ماني ماني</td>\n",
       "      <td>Cheb Hasni</td>\n",
       "      <td>8</td>\n",
       "      <td>1</td>\n",
       "      <td>4</td>\n",
       "      <td>337826</td>\n",
       "      <td>0.456</td>\n",
       "      <td>-3.842</td>\n",
       "      <td>0.741</td>\n",
       "      <td>0.000007</td>\n",
       "      <td>0.1230</td>\n",
       "      <td>0.821</td>\n",
       "      <td>0.2990</td>\n",
       "      <td>183.850</td>\n",
       "      <td>1</td>\n",
       "      <td>243746.0</td>\n",
       "      <td>13</td>\n",
       "      <td>10</td>\n",
       "    </tr>\n",
       "    <tr>\n",
       "      <th>489</th>\n",
       "      <td>4iHQzOQq0Vb7NpJHpHP4cn</td>\n",
       "      <td>Manakdarche</td>\n",
       "      <td>Cheb Hasni</td>\n",
       "      <td>7</td>\n",
       "      <td>0</td>\n",
       "      <td>3</td>\n",
       "      <td>345720</td>\n",
       "      <td>0.569</td>\n",
       "      <td>-8.841</td>\n",
       "      <td>0.555</td>\n",
       "      <td>0.000130</td>\n",
       "      <td>0.1450</td>\n",
       "      <td>0.962</td>\n",
       "      <td>0.0397</td>\n",
       "      <td>156.875</td>\n",
       "      <td>9</td>\n",
       "      <td>2378938.0</td>\n",
       "      <td>35</td>\n",
       "      <td>14</td>\n",
       "    </tr>\n",
       "    <tr>\n",
       "      <th>549</th>\n",
       "      <td>6438uhjVuYGkD8aUHUyju5</td>\n",
       "      <td>Gualou hasni met</td>\n",
       "      <td>Cheb Hasni</td>\n",
       "      <td>1</td>\n",
       "      <td>1</td>\n",
       "      <td>4</td>\n",
       "      <td>396813</td>\n",
       "      <td>0.701</td>\n",
       "      <td>-7.131</td>\n",
       "      <td>0.531</td>\n",
       "      <td>0.000023</td>\n",
       "      <td>0.1210</td>\n",
       "      <td>0.480</td>\n",
       "      <td>0.0274</td>\n",
       "      <td>136.755</td>\n",
       "      <td>8</td>\n",
       "      <td>4484745.0</td>\n",
       "      <td>1745</td>\n",
       "      <td>486</td>\n",
       "    </tr>\n",
       "  </tbody>\n",
       "</table>\n",
       "</div>"
      ],
      "text/plain": [
       "                          id                   name main_artist  key  mode  \\\n",
       "1724  5xZTetXJqKPQp00nwuPWmG  Tal ghyabek ya ghzali  Cheb Hasni    9     1   \n",
       "952   7GaLynDRlYhLTUoPzWHO6A            داك المحكوم  Cheb Hasni    7     1   \n",
       "1997  5vATyMKM0gCzU0m3x8tO8X              ماني ماني  Cheb Hasni    8     1   \n",
       "489   4iHQzOQq0Vb7NpJHpHP4cn            Manakdarche  Cheb Hasni    7     0   \n",
       "549   6438uhjVuYGkD8aUHUyju5       Gualou hasni met  Cheb Hasni    1     1   \n",
       "\n",
       "      time_signature  duration_ms_x  danceability  loudness  energy  \\\n",
       "1724               3         219800         0.733    -3.924   0.799   \n",
       "952                3         364893         0.433    -3.859   0.836   \n",
       "1997               4         337826         0.456    -3.842   0.741   \n",
       "489                3         345720         0.569    -8.841   0.555   \n",
       "549                4         396813         0.701    -7.131   0.531   \n",
       "\n",
       "      instrumentalness  liveness  valence  speechiness    tempo  popularity  \\\n",
       "1724          0.000017    0.1660    0.829       0.0412  135.671           2   \n",
       "952           0.000109    0.0759    0.892       0.1120  176.900           5   \n",
       "1997          0.000007    0.1230    0.821       0.2990  183.850           1   \n",
       "489           0.000130    0.1450    0.962       0.0397  156.875           9   \n",
       "549           0.000023    0.1210    0.480       0.0274  136.755           8   \n",
       "\n",
       "      youtube_views  last_fm_playcount  last_fm_listeners  \n",
       "1724       168955.0                 80                 43  \n",
       "952          1459.0                115                 27  \n",
       "1997       243746.0                 13                 10  \n",
       "489       2378938.0                 35                 14  \n",
       "549       4484745.0               1745                486  "
      ]
     },
     "execution_count": 247,
     "metadata": {},
     "output_type": "execute_result"
    }
   ],
   "source": [
    "pop_df = pd.read_csv('pop.csv')\n",
    "pop_df = pop_df[pop_df.main_artist == POP_ARTIST]\n",
    "pop_df = pop_df.sample(n = min(SAMPLE_SIZE, len(pop_df)))\n",
    "frames = [df, pop_df]\n",
    "df = pd.concat(frames)\n",
    "df.head()"
   ]
  },
  {
   "cell_type": "code",
   "execution_count": 248,
   "metadata": {},
   "outputs": [],
   "source": [
    "# NORMALIZE BY SINGER & RANDOMLI PICK SAME SIZE OF SONGS (random based on popularity)\n",
    "pop_columns = ['popularity', 'youtube_views', 'last_fm_playcount']\n",
    "artists = [POP_ARTIST, RAI_ARTIST]\n",
    "df[pop_columns].fillna(0)\n",
    "\n",
    "df[pop_columns] = (df[pop_columns] - df[pop_columns].min()) / (df[pop_columns].max() - df[pop_columns].min())\n"
   ]
  },
  {
   "cell_type": "code",
   "execution_count": 249,
   "metadata": {},
   "outputs": [
    {
     "name": "stderr",
     "output_type": "stream",
     "text": [
      "/Users/belkacemberchiche/miniforge3/envs/.venv/lib/python3.9/site-packages/pandas/core/frame.py:3191: SettingWithCopyWarning: \n",
      "A value is trying to be set on a copy of a slice from a DataFrame.\n",
      "Try using .loc[row_indexer,col_indexer] = value instead\n",
      "\n",
      "See the caveats in the documentation: https://pandas.pydata.org/pandas-docs/stable/user_guide/indexing.html#returning-a-view-versus-a-copy\n",
      "  self[k1] = value[k2]\n"
     ]
    }
   ],
   "source": [
    "for artist in artists:\n",
    "    art_df = df.loc[df.main_artist == artist, : ] \n",
    "    art_df.head()\n",
    "    art_df[pop_columns] = (art_df[pop_columns] - art_df[pop_columns].min()) / (art_df[pop_columns].max() - art_df[pop_columns].min())\n",
    "    df.loc[df.main_artist == artist, : ] = art_df"
   ]
  },
  {
   "cell_type": "code",
   "execution_count": 250,
   "metadata": {},
   "outputs": [
    {
     "data": {
      "text/plain": [
       "<AxesSubplot:xlabel='popularity', ylabel='Count'>"
      ]
     },
     "execution_count": 250,
     "metadata": {},
     "output_type": "execute_result"
    },
    {
     "data": {
      "image/png": "[encoded data removed]",
      "text/plain": [
       "<Figure size 842.4x595.44 with 1 Axes>"
      ]
     },
     "metadata": {},
     "output_type": "display_data"
    }
   ],
   "source": [
    "\n",
    "df = df[df.main_artist.isin(artists)]\n",
    "sns.histplot(data=df, x=\"popularity\", hue='main_artist', kde=True)"
   ]
  }
 ],
 "metadata": {
  "interpreter": {
   "hash": "df9f8c11f928931e06ff5ae9e3722eab1e5600b5798f23072a2dd77dd59e9d66"
  },
  "kernelspec": {
   "display_name": "Python 3.9.2 64-bit ('.venv': conda)",
   "name": "python3"
  },
  "language_info": {
   "codemirror_mode": {
    "name": "ipython",
    "version": 3
   },
   "file_extension": ".py",
   "mimetype": "text/x-python",
   "name": "python",
   "nbconvert_exporter": "python",
   "pygments_lexer": "ipython3",
   "version": "3.9.2"
  },
  "orig_nbformat": 4
 },
 "nbformat": 4,
 "nbformat_minor": 2
}
